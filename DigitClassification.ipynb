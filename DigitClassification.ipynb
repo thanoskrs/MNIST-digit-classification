{
 "cells": [
  {
   "cell_type": "markdown",
   "id": "e9a24fdd",
   "metadata": {},
   "source": [
    "# PART A (pre-processing)"
   ]
  },
  {
   "cell_type": "markdown",
   "id": "0c80f677",
   "metadata": {},
   "source": [
    "### Load dataset and  get train/dev/test\n",
    "* Download the dataset from tensorflow \n",
    "* select only the digits 5, 6 using the proper filter."
   ]
  },
  {
   "cell_type": "code",
   "execution_count": 1,
   "id": "a747f8c2",
   "metadata": {},
   "outputs": [],
   "source": [
    "import tensorflow as tf\n",
    "import numpy as np\n",
    "import matplotlib.pyplot as plt\n",
    "from tqdm import tqdm\n",
    "\n",
    "%matplotlib inline"
   ]
  },
  {
   "cell_type": "code",
   "execution_count": 2,
   "id": "4f6902dd",
   "metadata": {},
   "outputs": [],
   "source": [
    "(X_train, y_train), (X_test, y_test) = tf.keras.datasets.mnist.load_data()\n",
    "\n",
    "train_filter = np.isin(y_train, [5, 6])\n",
    "test_filter = np.isin(y_test, [5, 6])\n",
    "\n",
    "X_train, y_train = X_train[train_filter], y_train[train_filter]\n",
    "X_test, y_test = X_test[test_filter], y_test[test_filter]"
   ]
  },
  {
   "cell_type": "code",
   "execution_count": 3,
   "id": "071f9661",
   "metadata": {},
   "outputs": [
    {
     "name": "stdout",
     "output_type": "stream",
     "text": [
      "x_train shape = (11339, 28, 28)\n",
      "y_train shape = (11339,)\n",
      "\n",
      "x_test shape = (1850, 28, 28)\n",
      "y_test shape = (1850,)\n"
     ]
    }
   ],
   "source": [
    "print(\"x_train shape =\", X_train.shape)\n",
    "print(\"y_train shape =\", y_train.shape)\n",
    "print()\n",
    "print(\"x_test shape =\", X_test.shape)\n",
    "print(\"y_test shape =\", y_test.shape)"
   ]
  },
  {
   "cell_type": "markdown",
   "id": "23b4e64e",
   "metadata": {},
   "source": [
    "Split the train dataset into train and dev, using 80% and 20% of initial dataset, respectively "
   ]
  },
  {
   "cell_type": "code",
   "execution_count": 4,
   "id": "1481d275",
   "metadata": {},
   "outputs": [],
   "source": [
    "from sklearn.model_selection import train_test_split\n",
    "X_train, X_dev, y_train, y_dev = train_test_split( X_train, y_train, test_size=0.2, random_state=42)"
   ]
  },
  {
   "cell_type": "code",
   "execution_count": 5,
   "id": "9409cdca",
   "metadata": {},
   "outputs": [
    {
     "name": "stdout",
     "output_type": "stream",
     "text": [
      "X_train shape = (9071, 28, 28)\n",
      "y_train shape = (9071,)\n",
      "\n",
      "X_dev shape = (2268, 28, 28)\n",
      "y_dev shape = (2268,)\n",
      "\n",
      "X_test shape = (1850, 28, 28)\n",
      "y_test shape = (1850,)\n"
     ]
    }
   ],
   "source": [
    "print(\"X_train shape =\", X_train.shape)\n",
    "print(\"y_train shape =\", y_train.shape)\n",
    "print()\n",
    "print(\"X_dev shape =\", X_dev.shape)\n",
    "print(\"y_dev shape =\", y_dev.shape)\n",
    "print()\n",
    "print(\"X_test shape =\", X_test.shape)\n",
    "print(\"y_test shape =\", y_test.shape)"
   ]
  },
  {
   "cell_type": "markdown",
   "id": "f0d7eeee",
   "metadata": {},
   "source": [
    "### Visualize some digits"
   ]
  },
  {
   "cell_type": "code",
   "execution_count": 6,
   "id": "d52542a4",
   "metadata": {},
   "outputs": [
    {
     "data": {
      "image/png": "[encoded data removed]",
      "text/plain": [
       "<Figure size 1000x200 with 5 Axes>"
      ]
     },
     "metadata": {},
     "output_type": "display_data"
    }
   ],
   "source": [
    "import random\n",
    "random.seed(1)\n",
    "\n",
    "plt.figure(figsize=(10,2))\n",
    "plt.gray()\n",
    "\n",
    "for i in range(5):\n",
    "    plt.subplot(1, 5, i+1)\n",
    "    plt.imshow(X_train[random.randint(0, X_train.shape[0])])\n",
    "\n",
    "plt.show()"
   ]
  },
  {
   "cell_type": "markdown",
   "id": "1cda9a94",
   "metadata": {},
   "source": [
    "### Process datasets\n",
    "Reshape dimensionalities of each training/dev/test example to a vector of 784 dimensions\n",
    "\n"
   ]
  },
  {
   "cell_type": "code",
   "execution_count": 7,
   "id": "815c6091",
   "metadata": {},
   "outputs": [],
   "source": [
    "X_train = X_train.reshape(X_train.shape[0], -1)\n",
    "X_dev = X_dev.reshape(X_dev.shape[0], -1)\n",
    "X_test = X_test.reshape(X_test.shape[0], -1)"
   ]
  },
  {
   "cell_type": "code",
   "execution_count": 8,
   "id": "daba6396",
   "metadata": {},
   "outputs": [
    {
     "name": "stdout",
     "output_type": "stream",
     "text": [
      "x_train shape = (9071, 784)\n",
      "x_dev shape = (2268, 784)\n",
      "x_test shape = (1850, 784)\n"
     ]
    }
   ],
   "source": [
    "print(\"x_train shape =\", X_train.shape)\n",
    "print(\"x_dev shape =\", X_dev.shape)\n",
    "print(\"x_test shape =\", X_test.shape)"
   ]
  },
  {
   "cell_type": "markdown",
   "id": "8b54f2fd",
   "metadata": {},
   "source": [
    "Convert each vector element into a real number between [0, 1]"
   ]
  },
  {
   "cell_type": "code",
   "execution_count": 9,
   "id": "a3c1494c",
   "metadata": {},
   "outputs": [],
   "source": [
    "X_train = X_train / 255.0\n",
    "X_dev = X_dev / 255.0\n",
    "X_test = X_test / 255.0"
   ]
  },
  {
   "cell_type": "markdown",
   "id": "a49ac01f",
   "metadata": {},
   "source": [
    "Convert y_train / y_dev / y_test datasets as:\n",
    "* if class is 5 (digit 5) convert to 0\n",
    "* if class is 6 (digit 6) convert to 1\n",
    "\n",
    "This will help us at optimizer implemantation."
   ]
  },
  {
   "cell_type": "code",
   "execution_count": 10,
   "id": "ae3dee46",
   "metadata": {},
   "outputs": [],
   "source": [
    "y_train = (y_train == 6).astype(int)\n",
    "y_dev = (y_dev == 6).astype(int)\n",
    "y_test = (y_test == 6).astype(int)"
   ]
  },
  {
   "cell_type": "markdown",
   "id": "edbfa0a3",
   "metadata": {},
   "source": [
    "# PART B (Logistic Regression)"
   ]
  },
  {
   "cell_type": "markdown",
   "id": "0da1d8a1",
   "metadata": {},
   "source": [
    "### Sigmoid Function"
   ]
  },
  {
   "cell_type": "code",
   "execution_count": 11,
   "id": "7bf26c88",
   "metadata": {},
   "outputs": [],
   "source": [
    "def sigmoid(z):\n",
    "    return 1.0 / (1 + np.exp(-z))"
   ]
  },
  {
   "cell_type": "markdown",
   "id": "4213928e",
   "metadata": {},
   "source": [
    "### computeCostGrads\n",
    "\n",
    "function that computes and returns:\n",
    "\n",
    "* **cost J**\n",
    "* **gradients**,\n",
    "\n",
    "***without*** using L2 regularization"
   ]
  },
  {
   "cell_type": "code",
   "execution_count": 12,
   "id": "d9c6da25",
   "metadata": {},
   "outputs": [],
   "source": [
    "def computeCostGrads(X, y, w, b):\n",
    "    y_hat = sigmoid(np.dot(X, w) + b)\n",
    "    m = X.shape[0]\n",
    "    \n",
    "    cost = (np.dot(y.T, np.log(y_hat)) + np.dot(y.T, np.log(1 - y_hat)))\n",
    "    dw = np.dot(X.T, y - y_hat)/m\n",
    "    db = np.sum(y- y_hat) /m\n",
    "    \n",
    "    grads = {\"dw\": dw, \"db\": db}\n",
    "    \n",
    "    return cost, grads"
   ]
  },
  {
   "cell_type": "markdown",
   "id": "272978e2",
   "metadata": {},
   "source": [
    "### computeCostGradsRegularization \n",
    "\n",
    "function that computes and returns:\n",
    "\n",
    "* **cost J**\n",
    "* **gradients**,\n",
    "\n",
    "***using*** L2 regularization"
   ]
  },
  {
   "cell_type": "code",
   "execution_count": 13,
   "id": "a0cdcedd",
   "metadata": {},
   "outputs": [],
   "source": [
    "def computeCostGradsRegularization(X, y, w, b, _lambda):\n",
    "    y_hat = sigmoid(np.dot(X, w) + b)\n",
    "    \n",
    "    regularization_term = (_lambda / 2.0) - np.sum(w**2)\n",
    "    cost = (np.dot(y.T, np.log(y_hat)) + np.dot(y.T, np.log(1 - y_hat))) - regularization_term\n",
    "    \n",
    "    regularization_term = _lambda * w\n",
    "    dw = (np.dot(X.T, y - y_hat) - regularization_term) / m\n",
    "    db = (np.sum(y- y_hat) - regularization_term) / m\n",
    "    \n",
    "    grads = {\"dw\": dw, \"db\": db}\n",
    "    \n",
    "    return cost, grads"
   ]
  },
  {
   "cell_type": "markdown",
   "id": "43fff4ec",
   "metadata": {},
   "source": [
    "### Logistic Regression Algorithm"
   ]
  },
  {
   "cell_type": "code",
   "execution_count": 14,
   "id": "6a4dbed8",
   "metadata": {},
   "outputs": [],
   "source": [
    "def LogisticRegression(X, y, _iter = 500, alpha = 0.05):\n",
    "    \n",
    "    m, n = X.shape\n",
    "    b = 0\n",
    "    w = np.zeros(n).reshape((-1,1))\n",
    "    J = np.zeros(_iter)\n",
    "    \n",
    "    for i in tqdm(range(_iter)):\n",
    "        cost, grads = computeCostGrads(X, y, w, b)\n",
    "        J[i]  = cost\n",
    "        w += alpha * grads[\"dw\"]\n",
    "        b += alpha * grads[\"db\"]\n",
    "        \n",
    "    return J, w, b"
   ]
  },
  {
   "cell_type": "markdown",
   "id": "c840c468",
   "metadata": {},
   "source": [
    "### Predict"
   ]
  },
  {
   "cell_type": "code",
   "execution_count": 15,
   "id": "45a9b39c",
   "metadata": {},
   "outputs": [],
   "source": [
    "def predict(w, b, X):\n",
    "    \n",
    "    predictions = sigmoid(np.dot(X, w) + b)\n",
    "    predictions = (predictions >= (0.5 + 1e-6)).astype(int)\n",
    "    \n",
    "    return predictions.reshape(-1)"
   ]
  },
  {
   "cell_type": "code",
   "execution_count": 16,
   "id": "f080e887",
   "metadata": {},
   "outputs": [
    {
     "name": "stderr",
     "output_type": "stream",
     "text": [
      "100%|████████████████████████████████████████████████████████████████████████████████| 200/200 [00:05<00:00, 33.85it/s]\n"
     ]
    }
   ],
   "source": [
    "J, w, b = LogisticRegression(X_train, y_train.reshape((-1,1)), 200)\n",
    "predictions = predict(w, b, X_test)\n",
    "\n",
    "accuracy = sum(predictions == y_test) / y_test.shape[0]"
   ]
  },
  {
   "cell_type": "code",
   "execution_count": 17,
   "id": "0a0a06bf",
   "metadata": {},
   "outputs": [
    {
     "ename": "AttributeError",
     "evalue": "module 'matplotlib.pyplot' has no attribute 'label'",
     "output_type": "error",
     "traceback": [
      "\u001b[1;31m---------------------------------------------------------------------------\u001b[0m",
      "\u001b[1;31mAttributeError\u001b[0m                            Traceback (most recent call last)",
      "\u001b[1;32m~\\AppData\\Local\\Temp\\ipykernel_13280\\3737775974.py\u001b[0m in \u001b[0;36m<module>\u001b[1;34m\u001b[0m\n\u001b[0;32m      1\u001b[0m \u001b[0mplt\u001b[0m\u001b[1;33m.\u001b[0m\u001b[0mplot\u001b[0m\u001b[1;33m(\u001b[0m\u001b[0mnp\u001b[0m\u001b[1;33m.\u001b[0m\u001b[0marange\u001b[0m\u001b[1;33m(\u001b[0m\u001b[0mJ\u001b[0m\u001b[1;33m.\u001b[0m\u001b[0mshape\u001b[0m\u001b[1;33m[\u001b[0m\u001b[1;36m0\u001b[0m\u001b[1;33m]\u001b[0m\u001b[1;33m)\u001b[0m\u001b[1;33m,\u001b[0m \u001b[0mJ\u001b[0m\u001b[1;33m)\u001b[0m\u001b[1;33m\u001b[0m\u001b[1;33m\u001b[0m\u001b[0m\n\u001b[1;32m----> 2\u001b[1;33m \u001b[0mplt\u001b[0m\u001b[1;33m.\u001b[0m\u001b[0mlabel\u001b[0m\u001b[1;33m(\u001b[0m\u001b[1;34m\"Cost over iterations\"\u001b[0m\u001b[1;33m)\u001b[0m\u001b[1;33m\u001b[0m\u001b[1;33m\u001b[0m\u001b[0m\n\u001b[0m\u001b[0;32m      3\u001b[0m \u001b[0mplt\u001b[0m\u001b[1;33m.\u001b[0m\u001b[0mxlabel\u001b[0m\u001b[1;33m(\u001b[0m\u001b[1;34m\"Number of iterations\"\u001b[0m\u001b[1;33m)\u001b[0m\u001b[1;33m\u001b[0m\u001b[1;33m\u001b[0m\u001b[0m\n\u001b[0;32m      4\u001b[0m \u001b[0mplt\u001b[0m\u001b[1;33m.\u001b[0m\u001b[0mylabel\u001b[0m\u001b[1;33m(\u001b[0m\u001b[1;34m\"Cost J function\"\u001b[0m\u001b[1;33m)\u001b[0m\u001b[1;33m\u001b[0m\u001b[1;33m\u001b[0m\u001b[0m\n\u001b[0;32m      5\u001b[0m \u001b[0mplt\u001b[0m\u001b[1;33m.\u001b[0m\u001b[0mshow\u001b[0m\u001b[1;33m(\u001b[0m\u001b[1;33m)\u001b[0m\u001b[1;33m\u001b[0m\u001b[1;33m\u001b[0m\u001b[0m\n",
      "\u001b[1;31mAttributeError\u001b[0m: module 'matplotlib.pyplot' has no attribute 'label'"
     ]
    },
    {
     "data": {
      "image/png": "[encoded data removed]",
      "text/plain": [
       "<Figure size 640x480 with 1 Axes>"
      ]
     },
     "metadata": {},
     "output_type": "display_data"
    }
   ],
   "source": [
    "plt.plot(np.arange(J.shape[0]), J)\n",
    "plt.label(\"Cost over iterations\")\n",
    "plt.xlabel(\"Number of iterations\")\n",
    "plt.ylabel(\"Cost J function\")\n",
    "plt.show()"
   ]
  },
  {
   "cell_type": "code",
   "execution_count": 18,
   "id": "fbb904c2",
   "metadata": {},
   "outputs": [
    {
     "name": "stdout",
     "output_type": "stream",
     "text": [
      "0.9718918918918918\n"
     ]
    }
   ],
   "source": [
    "print(accuracy)"
   ]
  },
  {
   "cell_type": "code",
   "execution_count": null,
   "id": "c007d75b",
   "metadata": {},
   "outputs": [],
   "source": []
  }
 ],
 "metadata": {
  "kernelspec": {
   "display_name": "Python 3 (ipykernel)",
   "language": "python",
   "name": "python3"
  },
  "language_info": {
   "codemirror_mode": {
    "name": "ipython",
    "version": 3
   },
   "file_extension": ".py",
   "mimetype": "text/x-python",
   "name": "python",
   "nbconvert_exporter": "python",
   "pygments_lexer": "ipython3",
   "version": "3.9.13"
  }
 },
 "nbformat": 4,
 "nbformat_minor": 5
}
