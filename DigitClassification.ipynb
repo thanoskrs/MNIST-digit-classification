{
 "cells": [
  {
   "cell_type": "markdown",
   "id": "e9a24fdd",
   "metadata": {},
   "source": [
    "# PART A (pre-processing)"
   ]
  },
  {
   "cell_type": "markdown",
   "id": "0c80f677",
   "metadata": {},
   "source": [
    "### Load dataset and  split into train/dev/test\n",
    "* Download the dataset from tensorflow \n",
    "* select only the digits 5, 6 using the proper filter."
   ]
  },
  {
   "cell_type": "code",
   "execution_count": 470,
   "id": "a747f8c2",
   "metadata": {},
   "outputs": [],
   "source": [
    "import tensorflow as tf\n",
    "import numpy as np\n",
    "import matplotlib.pyplot as plt\n",
    "from tqdm import tqdm\n",
    "\n",
    "%matplotlib inline"
   ]
  },
  {
   "cell_type": "code",
   "execution_count": 471,
   "id": "4f6902dd",
   "metadata": {},
   "outputs": [],
   "source": [
    "(X_train, y_train), (X_test, y_test) = tf.keras.datasets.mnist.load_data()\n",
    "\n",
    "train_filter = np.isin(y_train, [5, 6])\n",
    "test_filter = np.isin(y_test, [5, 6])\n",
    "\n",
    "X_train, y_train = X_train[train_filter], y_train[train_filter]\n",
    "X_test, y_test = X_test[test_filter], y_test[test_filter]"
   ]
  },
  {
   "cell_type": "code",
   "execution_count": 472,
   "id": "071f9661",
   "metadata": {},
   "outputs": [
    {
     "name": "stdout",
     "output_type": "stream",
     "text": [
      "x_train shape = (11339, 28, 28)\n",
      "y_train shape = (11339,)\n",
      "\n",
      "x_test shape = (1850, 28, 28)\n",
      "y_test shape = (1850,)\n"
     ]
    }
   ],
   "source": [
    "print(\"x_train shape =\", X_train.shape)\n",
    "print(\"y_train shape =\", y_train.shape)\n",
    "print()\n",
    "print(\"x_test shape =\", X_test.shape)\n",
    "print(\"y_test shape =\", y_test.shape)"
   ]
  },
  {
   "cell_type": "markdown",
   "id": "23b4e64e",
   "metadata": {},
   "source": [
    "Split the train dataset into train and dev, using 80% and 20% of initial dataset, respectively "
   ]
  },
  {
   "cell_type": "code",
   "execution_count": 473,
   "id": "1481d275",
   "metadata": {},
   "outputs": [],
   "source": [
    "from sklearn.model_selection import train_test_split\n",
    "X_train, X_dev, y_train, y_dev = train_test_split( X_train, y_train, test_size=0.2, random_state=42)"
   ]
  },
  {
   "cell_type": "code",
   "execution_count": 474,
   "id": "9409cdca",
   "metadata": {},
   "outputs": [
    {
     "name": "stdout",
     "output_type": "stream",
     "text": [
      "X_train shape = (9071, 28, 28)\n",
      "y_train shape = (9071,)\n",
      "\n",
      "X_dev shape = (2268, 28, 28)\n",
      "y_dev shape = (2268,)\n",
      "\n",
      "X_test shape = (1850, 28, 28)\n",
      "y_test shape = (1850,)\n"
     ]
    }
   ],
   "source": [
    "print(\"X_train shape =\", X_train.shape)\n",
    "print(\"y_train shape =\", y_train.shape)\n",
    "print()\n",
    "print(\"X_dev shape =\", X_dev.shape)\n",
    "print(\"y_dev shape =\", y_dev.shape)\n",
    "print()\n",
    "print(\"X_test shape =\", X_test.shape)\n",
    "print(\"y_test shape =\", y_test.shape)"
   ]
  },
  {
   "cell_type": "markdown",
   "id": "f0d7eeee",
   "metadata": {},
   "source": [
    "### Visualize some digits"
   ]
  },
  {
   "cell_type": "code",
   "execution_count": 475,
   "id": "d52542a4",
   "metadata": {},
   "outputs": [
    {
     "data": {
      "image/png": "[encoded data removed]",
      "text/plain": [
       "<Figure size 500x200 with 5 Axes>"
      ]
     },
     "metadata": {},
     "output_type": "display_data"
    }
   ],
   "source": [
    "import random\n",
    "random.seed(1)\n",
    "\n",
    "plt.figure(figsize=(5,2))\n",
    "plt.gray()\n",
    "\n",
    "for i in range(5):\n",
    "    plt.subplot(1, 5, i+1)\n",
    "    plt.imshow(X_train[random.randint(0, X_train.shape[0])])\n",
    "\n",
    "plt.show()"
   ]
  },
  {
   "cell_type": "markdown",
   "id": "1cda9a94",
   "metadata": {},
   "source": [
    "### Process datasets\n",
    "Reshape dimensionalities of each training/dev/test example to a vector of 784 dimensions\n",
    "\n"
   ]
  },
  {
   "cell_type": "code",
   "execution_count": 476,
   "id": "815c6091",
   "metadata": {},
   "outputs": [],
   "source": [
    "X_train = X_train.reshape(X_train.shape[0], -1)\n",
    "X_dev = X_dev.reshape(X_dev.shape[0], -1)\n",
    "X_test = X_test.reshape(X_test.shape[0], -1)"
   ]
  },
  {
   "cell_type": "code",
   "execution_count": 477,
   "id": "daba6396",
   "metadata": {},
   "outputs": [
    {
     "name": "stdout",
     "output_type": "stream",
     "text": [
      "x_train shape = (9071, 784)\n",
      "x_dev shape = (2268, 784)\n",
      "x_test shape = (1850, 784)\n"
     ]
    }
   ],
   "source": [
    "print(\"x_train shape =\", X_train.shape)\n",
    "print(\"x_dev shape =\", X_dev.shape)\n",
    "print(\"x_test shape =\", X_test.shape)"
   ]
  },
  {
   "cell_type": "markdown",
   "id": "8b54f2fd",
   "metadata": {},
   "source": [
    "Convert each vector element into a real number between [0, 1]"
   ]
  },
  {
   "cell_type": "code",
   "execution_count": 478,
   "id": "a3c1494c",
   "metadata": {},
   "outputs": [],
   "source": [
    "X_train = X_train / 255.0\n",
    "X_dev = X_dev / 255.0\n",
    "X_test = X_test / 255.0"
   ]
  },
  {
   "cell_type": "markdown",
   "id": "a49ac01f",
   "metadata": {},
   "source": [
    "Convert y_train / y_dev / y_test datasets as:\n",
    "* if class is 5 (digit 5) convert to 0\n",
    "* if class is 6 (digit 6) convert to 1\n",
    "\n",
    "This will help us at optimizer implemantation."
   ]
  },
  {
   "cell_type": "code",
   "execution_count": 479,
   "id": "ae3dee46",
   "metadata": {},
   "outputs": [],
   "source": [
    "y_train = (y_train == 6).astype(int)\n",
    "y_dev = (y_dev == 6).astype(int)\n",
    "y_test = (y_test == 6).astype(int)"
   ]
  },
  {
   "cell_type": "markdown",
   "id": "edbfa0a3",
   "metadata": {},
   "source": [
    "# PART B (Logistic Regression)"
   ]
  },
  {
   "cell_type": "markdown",
   "id": "0da1d8a1",
   "metadata": {},
   "source": [
    "### Sigmoid Function"
   ]
  },
  {
   "cell_type": "code",
   "execution_count": 480,
   "id": "7bf26c88",
   "metadata": {},
   "outputs": [],
   "source": [
    "def sigmoid(z):\n",
    "    return 1.0 / (1 + np.exp(-z))"
   ]
  },
  {
   "cell_type": "markdown",
   "id": "4213928e",
   "metadata": {},
   "source": [
    "### computeCostGrads\n",
    "\n",
    "function that computes and returns:\n",
    "\n",
    "* **cost J**\n",
    "* **gradients**,\n",
    "\n",
    "***without*** using L2 regularization"
   ]
  },
  {
   "cell_type": "code",
   "execution_count": 213,
   "id": "d9c6da25",
   "metadata": {},
   "outputs": [],
   "source": [
    "def computeCostGrads(X, y, w, b, _lambda=0.):\n",
    "    y_hat = sigmoid(np.dot(X, w) + b)\n",
    "    m = X.shape[0]\n",
    "    \n",
    "    cost = (np.dot(y.T, np.log(y_hat)) + np.dot(y.T, np.log(1 - y_hat)))\n",
    "    dw = np.dot(X.T, y - y_hat)\n",
    "    db = np.sum(y - y_hat)\n",
    "    \n",
    "    if(_lambda != 0.):\n",
    "        cost -= (_lambda / 2.0) * np.sum(w**2)\n",
    "        regularization_term = _lambda * w\n",
    "        dw -= regularization_term\n",
    "        \n",
    "    dw /= m\n",
    "    db /= m\n",
    "    \n",
    "    grads = {\"dw\": dw, \"db\": db}\n",
    "    \n",
    "    return cost, grads"
   ]
  },
  {
   "cell_type": "markdown",
   "id": "43fff4ec",
   "metadata": {},
   "source": [
    "### Logistic Regression Algorithm"
   ]
  },
  {
   "cell_type": "code",
   "execution_count": 220,
   "id": "6a4dbed8",
   "metadata": {},
   "outputs": [],
   "source": [
    "def LogisticRegression(X, y, X_pred=None, y_pred=None, epochs = 200, alpha = 0.05, _lambda = 0.1):\n",
    "    \n",
    "    m, n = X.shape\n",
    "    b = 0\n",
    "    w = np.zeros(n).reshape((-1,1))\n",
    "    J = np.zeros(epochs)\n",
    "    train_accuracy_per_epoch = np.zeros(epochs)\n",
    "    test_accuracy_per_epoch = np.zeros(epochs)\n",
    "    \n",
    "    for epoch in tqdm(range(epochs)):\n",
    "        cost, grads = computeCostGrads(X, y, w, b, _lambda)\n",
    "        \n",
    "        J[epoch] = cost\n",
    "        \n",
    "        w += alpha * grads[\"dw\"]\n",
    "        b += alpha * grads[\"db\"]\n",
    "        \n",
    "        \n",
    "        current_epoch_preds = predict(w, b, X_pred)\n",
    "        test_accuracy_per_epoch[epoch] = sum(current_epoch_preds == y_pred) / y_pred.shape[0] \n",
    "        current_epoch_preds = predict(w, b, X)\n",
    "        train_accuracy_per_epoch[epoch] = sum(current_epoch_preds == y.reshape(-1)) / y.shape[0]\n",
    "        \n",
    "    return J, w, b, train_accuracy_per_epoch, test_accuracy_per_epoch"
   ]
  },
  {
   "cell_type": "markdown",
   "id": "c840c468",
   "metadata": {},
   "source": [
    "### Predict"
   ]
  },
  {
   "cell_type": "code",
   "execution_count": 221,
   "id": "45a9b39c",
   "metadata": {},
   "outputs": [],
   "source": [
    "def predict(w, b, X):\n",
    "    \n",
    "    predictions = sigmoid(np.dot(X, w) + b)\n",
    "    predictions = (predictions >= (0.5 + 1e-6)).astype(int)\n",
    "    \n",
    "    return predictions.reshape(-1)"
   ]
  },
  {
   "cell_type": "code",
   "execution_count": 226,
   "id": "f080e887",
   "metadata": {},
   "outputs": [
    {
     "name": "stderr",
     "output_type": "stream",
     "text": [
      "100%|██████████████████████████████████████████████████████████████████████████████| 1000/1000 [03:30<00:00,  4.74it/s]\n"
     ]
    },
    {
     "data": {
      "text/plain": [
       "'0.979'"
      ]
     },
     "execution_count": 226,
     "metadata": {},
     "output_type": "execute_result"
    }
   ],
   "source": [
    "J, w, b, train_acc, test_acc = LogisticRegression(X_train, y_train.reshape((-1,1)), epochs = 1000, X_pred=X_test, y_pred=y_test)\n",
    "predictions = predict(w, b, X_test)\n",
    "\n",
    "accuracy = sum(predictions == y_test) / y_test.shape[0]\n",
    "accuracy  = f'{accuracy:.3f}'\n",
    "accuracy"
   ]
  },
  {
   "cell_type": "code",
   "execution_count": 223,
   "id": "4e0f8fab",
   "metadata": {},
   "outputs": [
    {
     "data": {
      "text/plain": [
       "'0.966'"
      ]
     },
     "execution_count": 223,
     "metadata": {},
     "output_type": "execute_result"
    }
   ],
   "source": [
    "predictions = predict(w, b, X_train)\n",
    "\n",
    "accuracy = sum(predictions == y_train) / y_train.shape[0]\n",
    "accuracy  = f'{accuracy:.3f}'\n",
    "accuracy"
   ]
  },
  {
   "cell_type": "code",
   "execution_count": 224,
   "id": "0a0a06bf",
   "metadata": {},
   "outputs": [
    {
     "data": {
      "image/png": "[encoded data removed]",
      "text/plain": [
       "<Figure size 640x480 with 1 Axes>"
      ]
     },
     "metadata": {},
     "output_type": "display_data"
    }
   ],
   "source": [
    "plt.plot(np.arange(J.shape[0]), J)\n",
    "plt.title(\"Cost over iterations\")\n",
    "plt.xlabel(\"Number of iterations\")\n",
    "plt.ylabel(\"Cost J function\")\n",
    "plt.show()\n"
   ]
  },
  {
   "cell_type": "code",
   "execution_count": 225,
   "id": "85120d6d",
   "metadata": {},
   "outputs": [
    {
     "data": {
      "image/png": "[encoded data removed]",
      "text/plain": [
       "<Figure size 640x480 with 1 Axes>"
      ]
     },
     "metadata": {},
     "output_type": "display_data"
    }
   ],
   "source": [
    "plt.plot(np.arange(test_acc.shape[0]), 1-test_acc, c ='r')\n",
    "plt.plot(np.arange(train_acc.shape[0]),1- train_acc, c ='b')\n",
    "plt.title(\"Accuracy per epoch\")\n",
    "plt.xlabel(\"Number of epochs\")\n",
    "plt.ylabel(\"Accuracy\")\n",
    "plt.show()"
   ]
  },
  {
   "cell_type": "markdown",
   "id": "1c97641a",
   "metadata": {},
   "source": [
    "### Use L2 Regularization Term\n",
    "\n",
    "Instead of choosing 100 values for l2 regularization term uniformly in the range [$10^{-4}$ - $10^1$], we choose values uniformly in the below ranges:\n",
    "* [$10^{-4}$ - $10^{-3}$]\n",
    "* [$10^{-3}$ - $10^{-2}$]\n",
    "* [$10^{-2}$ - $10^{-1}$]\n",
    "* [$10^{-1}$ - $10^0$]\n",
    "* [$10^0$ - $10^1$]"
   ]
  },
  {
   "cell_type": "code",
   "execution_count": 49,
   "id": "af9c7ef9",
   "metadata": {},
   "outputs": [],
   "source": [
    "random.seed(10)\n",
    "lambdas = np.zeros(50)\n",
    "for i in range (lambdas.shape[0]):\n",
    "    lambdas[i] = 10**(-5*random.random()) * 10"
   ]
  },
  {
   "cell_type": "code",
   "execution_count": 50,
   "id": "4439f21c",
   "metadata": {},
   "outputs": [],
   "source": [
    "random.seed(10)\n",
    "alphas = np.zeros(20)\n",
    "for i in range (alphas.shape[0]):\n",
    "    alphas[i] = 10**(-4*random.random())"
   ]
  },
  {
   "cell_type": "code",
   "execution_count": null,
   "id": "b6d1849f",
   "metadata": {},
   "outputs": [],
   "source": [
    "best_w = []\n",
    "best_b = 0\n",
    "best_accuracy = 0\n",
    "best_lambda = 0\n",
    "best_alpha = 0\n",
    "\n",
    "i=0\n",
    "\n",
    "for _lambda in lambdas:\n",
    "    \n",
    "    for alpha in tqdm(alphas):\n",
    "        _, w, b= LogisticRegression(X_train, y_train.reshape((-1,1)), alpha = alpha, epochs=50, _lambda=_lambda)\n",
    "        predictions = predict(w, b, X_dev)\n",
    "        accuracy = sum(predictions == y_dev) / y_dev.shape[0]\n",
    "    \n",
    "        if accuracy > best_accuracy:\n",
    "            best_w = w\n",
    "            best_b = b\n",
    "            best_accuracy = accuracy\n",
    "            best_lambda =  _lambda\n",
    "            best_alpha = alpha\n",
    "    \n",
    "    print(i)\n",
    "    i+=1\n"
   ]
  },
  {
   "cell_type": "markdown",
   "id": "3d32971c",
   "metadata": {},
   "source": [
    "# PART C (Neural Netwroks)"
   ]
  },
  {
   "cell_type": "code",
   "execution_count": 802,
   "id": "a5274ddc",
   "metadata": {},
   "outputs": [],
   "source": [
    "class Layer:\n",
    "    def __init__(self, units, weights, activation = sigmoid):\n",
    "        self.W = np.random.randn(units, weights) * 0.01\n",
    "        self.b = np.zeros((units, 1))\n",
    "        self.activation = activation\n",
    "         \n",
    "    def forward_prop(self, A_previous):\n",
    "        self.Z = np.dot(self.W, A_previous) + self.b\n",
    "        self.A = self.activation(self.Z)\n",
    "        return self.A\n",
    "        \n",
    "    def back_prop(self, upper_layer, A_previous, m, learning_rate):\n",
    "        self.dZ = upper_layer.W.T.dot(upper_layer.dZ) * d_sigmoid(self.Z)\n",
    "        self.dW = (1/m) * self.dZ.dot(A_previous.T)\n",
    "        self.db = (1/m) * np.sum(self.dZ, axis=1,keepdims=True)\n",
    "        self.W -= learning_rate*self.dW\n",
    "        self.b -= learning_rate*self.db"
   ]
  },
  {
   "cell_type": "code",
   "execution_count": 817,
   "id": "6d2f2408",
   "metadata": {},
   "outputs": [],
   "source": [
    "class NeuralNetwork:\n",
    "    def __init__(self):\n",
    "        self.layers = []\n",
    "        self.J = np.array([])\n",
    "        \n",
    "    def input_layer(self, X, Y):\n",
    "        self.m, self.n = X.shape\n",
    "        self.X = X.T\n",
    "        self.Y = Y\n",
    "    \n",
    "    def add(self, layer):\n",
    "        self.layers.append(layer)\n",
    "        \n",
    "    def __forward_prop(self, X, Y):\n",
    "        A_previous = X\n",
    "        for layer in self.layers:\n",
    "            A_previous = layer.forward_prop(A_previous)\n",
    "            \n",
    "        self.y_hat = A_previous\n",
    "        \n",
    "        cost = (np.dot(Y.reshape(-1,1).T, np.log(self.y_hat.reshape(-1,1))) \n",
    "                + np.dot(Y.reshape(-1,1).T, np.log(1 - self.y_hat.reshape(-1,1))))\n",
    "        \n",
    "        self.J = np.append(self.J, cost)\n",
    "        \n",
    "        return self.y_hat\n",
    "        \n",
    "    \n",
    "    def __back_prop(self, learning_rate):\n",
    "        self.layers[-1].dZ = self.y_hat - self.Y\n",
    "        self.layers[-1].dW = (1/self.m) * self.layers[-1].dZ.dot(self.layers[-2].A.T)\n",
    "        self.layers[-1].db = (1/self.m) * np.sum(self.layers[-1].dZ, axis=1,keepdims=True)\n",
    "        self.layers[-1].W -=  learning_rate*self.layers[-1].dW\n",
    "        self.layers[-1].b -=  learning_rate*self.layers[-1].db\n",
    "        \n",
    "        for i in range(len(self.layers)-2, 0, -1):\n",
    "            self.layers[i].back_prop(self.layers[i+1], self.layers[i-1].A, self.m, learning_rate)\n",
    "            \n",
    "        self.layers[0].back_prop(self.layers[1], self.X, self.m, learning_rate)\n",
    "        \n",
    "    def train(self, epochs=100, learning_rate=0.5, early_stopping = False):\n",
    "        \n",
    "        if early_stopping:\n",
    "            self.epochs = 0\n",
    "            \n",
    "            while True:\n",
    "                self.__forward_prop(self.X, self.Y)\n",
    "                self.__back_prop(learning_rate)\n",
    "                \n",
    "                self.epochs+=1\n",
    "                #learning_rate *= 0.99\n",
    "                \n",
    "                if self.J[-1] >= self.J[-1:-6:-1].all() or self.epochs == epochs:\n",
    "                    break\n",
    "                    \n",
    "        else:\n",
    "            for epoch in tqdm(range(epochs)):\n",
    "                self.__forward_prop(self.X, self.Y)\n",
    "                self.__back_prop(learning_rate)\n",
    "    \n",
    "    def predict(self, X, Y):\n",
    "        predictions = self.__forward_prop(X.T, Y)\n",
    "        predictions = (predictions >= (0.5 + 1e-6)).astype(int)\n",
    "    \n",
    "        return predictions.reshape(-1)\n",
    "    \n",
    "    def accuracy(self, X, Y):\n",
    "        preds = self.predict(X, Y)\n",
    "        accuracy = sum(preds == Y) / Y.shape[0]\n",
    "        \n",
    "        return accuracy"
   ]
  },
  {
   "cell_type": "code",
   "execution_count": 818,
   "id": "b2a4c08d",
   "metadata": {},
   "outputs": [],
   "source": [
    "def d_sigmoid(Z):\n",
    "    return sigmoid(Z)*(1-sigmoid(Z))"
   ]
  },
  {
   "cell_type": "code",
   "execution_count": 846,
   "id": "d6b2957c",
   "metadata": {},
   "outputs": [],
   "source": [
    "hidden_layer = Layer(8, X_train.shape[1])\n",
    "output_layer = Layer(1, hidden_layer.W.shape[0])\n",
    "\n",
    "nn = NeuralNetwork()\n",
    "\n",
    "nn.input_layer(X_train, y_train)\n",
    "nn.add(hidden_layer)\n",
    "nn.add(output_layer)\n",
    "\n",
    "nn.train(learning_rate=.01, epochs = 1000, early_stopping=True)"
   ]
  },
  {
   "cell_type": "code",
   "execution_count": 845,
   "id": "793eb2d0",
   "metadata": {},
   "outputs": [
    {
     "name": "stdout",
     "output_type": "stream",
     "text": [
      "0.5219931650314188\n",
      "0.5216049382716049\n",
      "0.5178378378378379\n"
     ]
    }
   ],
   "source": [
    "print(nn.accuracy(X_train, y_train))\n",
    "print(nn.accuracy(X_dev, y_dev))\n",
    "print(nn.accuracy(X_test, y_test))"
   ]
  },
  {
   "cell_type": "code",
   "execution_count": 626,
   "id": "5ef38331",
   "metadata": {},
   "outputs": [],
   "source": [
    "random.seed(42)\n",
    "alphas = np.zeros(10)\n",
    "for i in range (alphas.shape[0]):\n",
    "    alphas[i] = 10**(-5*random.random())\n",
    "    \n",
    "M = [2**i for i in range(1, 11)]"
   ]
  },
  {
   "cell_type": "code",
   "execution_count": 844,
   "id": "f5f953a6",
   "metadata": {},
   "outputs": [
    {
     "data": {
      "image/png": "[encoded data removed]",
      "text/plain": [
       "<Figure size 640x480 with 1 Axes>"
      ]
     },
     "metadata": {},
     "output_type": "display_data"
    }
   ],
   "source": [
    "plt.plot(np.arange(nn.J.shape[0]), nn.J)\n",
    "plt.title(\"Cost over iterations\")\n",
    "plt.xlabel(\"Number of iterations\")\n",
    "plt.ylabel(\"Cost J function\")\n",
    "plt.show()\n"
   ]
  },
  {
   "cell_type": "code",
   "execution_count": 839,
   "id": "38d93fed",
   "metadata": {},
   "outputs": [
    {
     "data": {
      "text/plain": [
       "array([ -5375.79861182,  -6558.14151497, -26076.18150488, -26064.35396091,\n",
       "       -26052.51727583, -26040.67148474, -26028.81662306, -26016.95272657,\n",
       "       -26005.07983136, -25993.19797387, -25981.3071908 , -25969.40751919,\n",
       "       -25957.49899633, -25945.58165979, -25933.65554738, -25921.72069717,\n",
       "       -25909.77714744, -25897.82493667, -25885.86410356, -25873.89468697,\n",
       "       -25861.91672592, -25849.93025957, -25837.93532723, -25825.9319683 ,\n",
       "       -25813.92022227, -25801.90012872, -25789.87172727, -25777.83505759,\n",
       "       -25765.79015936, -25753.73707224, -25741.6758359 , -25729.60648995,\n",
       "       -25717.52907394, -25705.44362734, -25693.35018951, -25681.24879969,\n",
       "       -25669.13949698, -25657.02232031, -25644.89730842, -25632.76449984,\n",
       "       -25620.62393289, -25608.4756456 , -25596.31967577, -25584.15606088,\n",
       "       -25571.98483811, -25559.8060443 , -25547.61971592, -25535.42588908,\n",
       "       -25523.2245995 , -25511.01588246, -25498.7997728 , -25486.57630494,\n",
       "       -25474.34551277, -25462.10742972, -25449.86208869, -25437.60952205,\n",
       "       -25425.34976162, -25413.08283863, -25400.80878376, -25388.52762705,\n",
       "       -25376.23939793, -25363.94412521, -25351.64183703, -25339.33256087,\n",
       "       -25327.01632354, -25314.69315114, -25302.36306907, -25290.02610202,\n",
       "       -25277.68227395, -25265.33160807, -25252.97412685, -25240.609852  ,\n",
       "       -25228.23880445, -25215.86100438, -25203.47647117, -25191.0852234 ,\n",
       "       -25178.68727889, -25166.28265462, -25153.87136681, -25141.45343083,\n",
       "       -25129.02886127, -25116.59767191, -25104.15987569, -25091.71548476,\n",
       "       -25079.26451045, -25066.80696328, -25054.34285296, -25041.87218839,\n",
       "       -25029.39497765, -25016.91122805, -25004.42094607, -24991.9241374 ,\n",
       "       -24979.42080696, -24966.91095887, -24954.39459648, -24941.87172236,\n",
       "       -24929.34233832, -24916.80644541, -24904.26404393, -24891.71513345,\n",
       "       -24879.15971278, -24866.59778003, -24854.02933257, -24841.45436709,\n",
       "       -24828.87287955, -24816.28486524, -24803.69031876, -24791.08923402,\n",
       "       -24778.4816043 , -24765.8674222 , -24753.24667969, -24740.61936808,\n",
       "       -24727.98547807, -24715.34499972, -24702.69792251, -24690.04423528,\n",
       "       -24677.38392629, -24664.7169832 , -24652.04339309, -24639.36314246,\n",
       "       -24626.67621725, -24613.9826028 , -24601.28228392, -24588.57524485,\n",
       "       -24575.86146927, -24563.14094032, -24550.41364057, -24537.67955206,\n",
       "       -24524.93865627, -24512.19093414, -24499.43636606, -24486.67493187,\n",
       "       -24473.90661086, -24461.13138176, -24448.34922273, -24435.5601114 ,\n",
       "       -24422.7640248 , -24409.96093939, -24397.15083106, -24384.33367508,\n",
       "       -24371.50944615, -24358.67811833, -24345.83966508, -24332.99405921,\n",
       "       -24320.14127287, -24307.28127757, -24294.41404413, -24281.53954265,\n",
       "       -24268.65774255, -24255.7686125 , -24242.87212042, -24229.96823344,\n",
       "       -24217.05691792, -24204.13813937, -24191.21186248, -24178.27805105,\n",
       "       -24165.336668  , -24152.3876753 , -24139.43103398, -24126.46670408,\n",
       "       -24113.49464464, -24100.51481361, -24087.52716788, -24074.53166323,\n",
       "       -24061.52825424, -24048.51689434, -24035.49753571, -24022.47012922,\n",
       "       -24009.43462448, -23996.39096969, -23983.33911166, -23970.27899574,\n",
       "       -23957.21056581, -23944.13376415, -23931.04853148, -23917.95480684,\n",
       "       -23904.85252759, -23891.74162931, -23878.62204577, -23865.49370887,\n",
       "       -23852.35654855, -23839.2104928 , -23826.05546752, -23812.89139649,\n",
       "       -23799.71820131, -23786.53580133, -23773.34411357, -23760.14305266,\n",
       "       -23746.93253075, -23733.71245746, -23720.48273981, -23707.24328209,\n",
       "       -23693.99398585, -23680.73474978, -23667.46546961, -23654.18603807,\n",
       "       -23640.89634479, -23627.59627619, -23614.28571539, -23600.96454216,\n",
       "       -23587.63263279, -23574.28985998, -23560.9360928 , -23547.57119651,\n",
       "       -23534.19503254, -23520.80745833, -23507.40832723, -23493.99748842,\n",
       "       -23480.57478679, -23467.14006279, -23453.69315238, -23440.23388684,\n",
       "       -23426.76209273, -23413.27759171, -23399.78020042, -23386.2697304 ,\n",
       "       -23372.74598792, -23359.20877385, -23345.65788356, -23332.09310675,\n",
       "       -23318.51422733, -23304.9210233 , -23291.31326655, -23277.69072278,\n",
       "       -23264.05315132, -23250.40030499, -23236.73192994, -23223.0477655 ,\n",
       "       -23209.34754404, -23195.63099078, -23181.89782365, -23168.14775314,\n",
       "       -23154.38048208, -23140.59570553, -23126.79311058, -23112.97237617,\n",
       "       -23099.13317291, -23085.27516294, -23071.3979997 , -23057.50132775,\n",
       "       -23043.5847826 , -23029.64799052, -23015.69056832, -23001.71212317,\n",
       "       -22987.71225238, -22973.69054324, -22959.64657276, -22945.57990748,\n",
       "       -22931.49010326, -22917.37670505, -22903.23924669, -22889.07725066,\n",
       "       -22874.89022785, -22860.67767736, -22846.43908621, -22832.17392915,\n",
       "       -22817.88166838, -22803.56175332, -22789.21362034, -22774.83669251,\n",
       "       -22760.43037934, -22745.99407649, -22731.52716553, -22717.02901364,\n",
       "       -22702.4989733 , -22687.93638207, -22673.34056222, -22658.71082048,\n",
       "       -22644.04644769, -22629.34671854, -22614.61089119, -22599.83820699,\n",
       "       -22585.02789012, -22570.17914724, -22555.29116718, -22540.36312056,\n",
       "       -22525.39415939, -22510.38341679, -22495.33000649, -22480.23302256,\n",
       "       -22465.0915389 , -22449.90460894, -22434.67126511, -22419.39051853,\n",
       "       -22404.06135846, -22388.68275195, -22373.25364329, -22357.77295363,\n",
       "       -22342.23958042, -22326.65239697, -22311.01025193, -22295.31196873,\n",
       "       -22279.55634514, -22263.74215262, -22247.86813585, -22231.93301209,\n",
       "       -22215.93547064, -22199.87417222, -22183.74774835, -22167.55480073,\n",
       "       -22151.29390056, -22134.96358791, -22118.56237104, -22102.08872564,\n",
       "       -22085.54109419, -22068.91788517, -22052.21747232, -22035.43819387,\n",
       "       -22018.57835175, -22001.63621072, -21984.60999763, -21967.49790046,\n",
       "       -21950.29806752, -21933.00860647, -21915.62758347, -21898.15302217,\n",
       "       -21880.58290276, -21862.91516094, -21845.14768695, -21827.27832444,\n",
       "       -21809.30486944, -21791.22506923, -21773.0366212 , -21754.73717167,\n",
       "       -21736.3243147 , -21717.79559086, -21699.14848594, -21680.38042965,\n",
       "       -21661.48879432, -21642.47089346, -21623.32398042, -21604.04524686,\n",
       "       -21584.63182133, -21565.08076769, -21545.38908353, -21525.55369857,\n",
       "       -21505.57147297, -21485.43919562, -21465.15358234, -21444.71127408,\n",
       "       -21424.10883503, -21403.34275066, -21382.40942575, -21361.3051823 ,\n",
       "       -21340.0262574 , -21318.56880102, -21296.92887377, -21275.10244451,\n",
       "       -21253.0853879 , -21230.87348196, -21208.46240538, -21185.84773489,\n",
       "       -21163.02494242, -21139.98939221, -21116.73633784, -21093.26091909,\n",
       "       -21069.55815869, -21045.62295899, -21021.45009847, -20997.03422809,\n",
       "       -20972.36986754, -20947.45140131, -20922.27307461, -20896.82898911,\n",
       "       -20871.11309852, -20845.11920398, -20818.84094922, -20792.27181557,\n",
       "       -20765.4051167 , -20738.23399318, -20710.75140673, -20682.95013428,\n",
       "       -20654.82276172, -20626.36167741, -20597.5590653 , -20568.40689786,\n",
       "       -20538.89692856, -20509.02068408, -20478.76945608, -20448.13429265,\n",
       "       -20417.10598927, -20385.67507939, -20353.83182451, -20321.56620379,\n",
       "       -20288.86790312, -20255.72630367, -20222.13046979, -20188.06913641,\n",
       "       -20153.53069567, -20118.50318293, -20082.97426196, -20046.93120951,\n",
       "       -20010.36089886, -19973.24978261, -19935.58387452, -19897.3487303 ,\n",
       "       -19858.52942744, -19819.11054381, -19779.07613511, -19738.40971108,\n",
       "       -19697.09421027, -19655.11197341, -19612.44471525, -19569.07349466,\n",
       "       -19524.97868307, -19480.13993094, -19434.53613224, -19388.14538676,\n",
       "       -19340.94496012, -19292.91124124, -19244.01969722, -19194.24482527,\n",
       "       -19143.56010164, -19091.93792722, -19039.34956953, -18985.76510092,\n",
       "       -18931.15333267, -18875.48174454, -18818.7164096 , -18760.82191377,\n",
       "       -18701.76126979, -18641.49582507, -18579.98516296, -18517.18699678,\n",
       "       -18453.05705615, -18387.54896483, -18320.61410935, -18252.20149759,\n",
       "       -18182.25760654, -18110.72621799, -18037.5482413 , -17962.66152196,\n",
       "       -17886.00063447, -17807.49665827, -17727.07693494, -17644.66480482,\n",
       "       -17560.17932126, -17473.53493999, -17384.6411813 , -17293.40226233,\n",
       "       -17199.71669632, -17103.47685552, -17004.56849407, -16902.87022668,\n",
       "       -16798.25295856, -16690.57926171, -16579.70269175, -16465.46703961,\n",
       "       -16347.70551109, -16226.23982744, -16100.87923891, -15971.41944329,\n",
       "       -15837.64140076, -15699.31003629, -15556.17282099, -15407.95822469,\n",
       "       -15254.37403326, -15095.10552733, -14929.81352351, -14758.13228675,\n",
       "       -14579.66733422, -14393.99316848, -14200.65100474, -13999.14659667,\n",
       "       -13788.94832467, -13569.48579903, -13340.14936124, -13100.29106091,\n",
       "       -12849.22797434, -12586.2491573 , -12310.62815717, -12021.6439412 ,\n",
       "       -11718.61446114, -11400.94903942, -11068.22851922, -10720.32580094,\n",
       "       -10357.58383449,  -9981.07234109,  -9592.94537484,  -9196.91162764,\n",
       "        -8798.79202666,  -8407.0476637 ,  -8032.98689973,  -7690.12719145,\n",
       "        -7392.09018269,  -7148.93217006,  -6963.43833199,  -6830.72124429,\n",
       "        -6740.98283333,  -6682.71119275,  -6645.50061832,  -6621.65227233,\n",
       "        -6606.14596998,  -6595.86740884,  -6588.89330124,  -6584.02708185,\n",
       "        -6580.51944346,  -6577.89573459,  -6575.84070972,  -6574.09408082,\n",
       "        -6572.25691294,  -6569.2839885 ,  -6564.29020367])"
      ]
     },
     "execution_count": 839,
     "metadata": {},
     "output_type": "execute_result"
    }
   ],
   "source": [
    "nn.J[-1:-510:-1]"
   ]
  },
  {
   "cell_type": "code",
   "execution_count": null,
   "id": "c422e538",
   "metadata": {},
   "outputs": [],
   "source": []
  }
 ],
 "metadata": {
  "kernelspec": {
   "display_name": "Python 3 (ipykernel)",
   "language": "python",
   "name": "python3"
  },
  "language_info": {
   "codemirror_mode": {
    "name": "ipython",
    "version": 3
   },
   "file_extension": ".py",
   "mimetype": "text/x-python",
   "name": "python",
   "nbconvert_exporter": "python",
   "pygments_lexer": "ipython3",
   "version": "3.9.13"
  }
 },
 "nbformat": 4,
 "nbformat_minor": 5
}
