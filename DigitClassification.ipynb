{
 "cells": [
  {
   "cell_type": "markdown",
   "id": "e9a24fdd",
   "metadata": {},
   "source": [
    "# PART A (pre-processing)"
   ]
  },
  {
   "cell_type": "markdown",
   "id": "0c80f677",
   "metadata": {},
   "source": [
    "### Load dataset and  split into train/dev/test\n",
    "* Download the dataset from tensorflow \n",
    "* select only the digits 5, 6 using the proper filter."
   ]
  },
  {
   "cell_type": "code",
   "execution_count": 1,
   "id": "a747f8c2",
   "metadata": {},
   "outputs": [],
   "source": [
    "import tensorflow as tf\n",
    "import numpy as np\n",
    "import matplotlib.pyplot as plt\n",
    "from tqdm import tqdm\n",
    "\n",
    "%matplotlib inline"
   ]
  },
  {
   "cell_type": "code",
   "execution_count": 2,
   "id": "4f6902dd",
   "metadata": {},
   "outputs": [
    {
     "name": "stdout",
     "output_type": "stream",
     "text": [
      "Downloading data from https://storage.googleapis.com/tensorflow/tf-keras-datasets/mnist.npz\n",
      "11490434/11490434 [==============================] - 7s 1us/step\n"
     ]
    }
   ],
   "source": [
    "(X_train, y_train), (X_test, y_test) = tf.keras.datasets.mnist.load_data()\n",
    "\n",
    "train_filter = np.isin(y_train, [5, 6])\n",
    "test_filter = np.isin(y_test, [5, 6])\n",
    "\n",
    "X_train, y_train = X_train[train_filter], y_train[train_filter]\n",
    "X_test, y_test = X_test[test_filter], y_test[test_filter]"
   ]
  },
  {
   "cell_type": "code",
   "execution_count": 3,
   "id": "071f9661",
   "metadata": {},
   "outputs": [
    {
     "name": "stdout",
     "output_type": "stream",
     "text": [
      "x_train shape = (11339, 28, 28)\n",
      "y_train shape = (11339,)\n",
      "\n",
      "x_test shape = (1850, 28, 28)\n",
      "y_test shape = (1850,)\n"
     ]
    }
   ],
   "source": [
    "print(\"x_train shape =\", X_train.shape)\n",
    "print(\"y_train shape =\", y_train.shape)\n",
    "print()\n",
    "print(\"x_test shape =\", X_test.shape)\n",
    "print(\"y_test shape =\", y_test.shape)"
   ]
  },
  {
   "cell_type": "markdown",
   "id": "23b4e64e",
   "metadata": {},
   "source": [
    "Split the train dataset into train and dev, using 80% and 20% of initial dataset, respectively "
   ]
  },
  {
   "cell_type": "code",
   "execution_count": 4,
   "id": "1481d275",
   "metadata": {},
   "outputs": [],
   "source": [
    "from sklearn.model_selection import train_test_split\n",
    "X_train, X_dev, y_train, y_dev = train_test_split( X_train, y_train, test_size=0.2, random_state=42)"
   ]
  },
  {
   "cell_type": "code",
   "execution_count": 5,
   "id": "9409cdca",
   "metadata": {},
   "outputs": [
    {
     "name": "stdout",
     "output_type": "stream",
     "text": [
      "X_train shape = (9071, 28, 28)\n",
      "y_train shape = (9071,)\n",
      "\n",
      "X_dev shape = (2268, 28, 28)\n",
      "y_dev shape = (2268,)\n",
      "\n",
      "X_test shape = (1850, 28, 28)\n",
      "y_test shape = (1850,)\n"
     ]
    }
   ],
   "source": [
    "print(\"X_train shape =\", X_train.shape)\n",
    "print(\"y_train shape =\", y_train.shape)\n",
    "print()\n",
    "print(\"X_dev shape =\", X_dev.shape)\n",
    "print(\"y_dev shape =\", y_dev.shape)\n",
    "print()\n",
    "print(\"X_test shape =\", X_test.shape)\n",
    "print(\"y_test shape =\", y_test.shape)"
   ]
  },
  {
   "cell_type": "markdown",
   "id": "f0d7eeee",
   "metadata": {},
   "source": [
    "### Visualize some digits"
   ]
  },
  {
   "cell_type": "code",
   "execution_count": 6,
   "id": "d52542a4",
   "metadata": {},
   "outputs": [
    {
     "data": {
      "image/png": "[encoded data removed]",
      "text/plain": [
       "<Figure size 360x144 with 5 Axes>"
      ]
     },
     "metadata": {
      "needs_background": "light"
     },
     "output_type": "display_data"
    }
   ],
   "source": [
    "import random\n",
    "random.seed(1)\n",
    "\n",
    "plt.figure(figsize=(5,2))\n",
    "plt.gray()\n",
    "\n",
    "for i in range(5):\n",
    "    plt.subplot(1, 5, i+1)\n",
    "    plt.imshow(X_train[random.randint(0, X_train.shape[0])])\n",
    "\n",
    "plt.show()"
   ]
  },
  {
   "cell_type": "markdown",
   "id": "1cda9a94",
   "metadata": {},
   "source": [
    "### Process datasets\n",
    "Reshape dimensionalities of each training/dev/test example to a vector of 784 dimensions\n",
    "\n"
   ]
  },
  {
   "cell_type": "code",
   "execution_count": 7,
   "id": "815c6091",
   "metadata": {},
   "outputs": [],
   "source": [
    "X_train = X_train.reshape(X_train.shape[0], -1)\n",
    "X_dev = X_dev.reshape(X_dev.shape[0], -1)\n",
    "X_test = X_test.reshape(X_test.shape[0], -1)"
   ]
  },
  {
   "cell_type": "code",
   "execution_count": 8,
   "id": "daba6396",
   "metadata": {},
   "outputs": [
    {
     "name": "stdout",
     "output_type": "stream",
     "text": [
      "x_train shape = (9071, 784)\n",
      "x_dev shape = (2268, 784)\n",
      "x_test shape = (1850, 784)\n"
     ]
    }
   ],
   "source": [
    "print(\"x_train shape =\", X_train.shape)\n",
    "print(\"x_dev shape =\", X_dev.shape)\n",
    "print(\"x_test shape =\", X_test.shape)"
   ]
  },
  {
   "cell_type": "markdown",
   "id": "8b54f2fd",
   "metadata": {},
   "source": [
    "Convert each vector element into a real number between [0, 1]"
   ]
  },
  {
   "cell_type": "code",
   "execution_count": 9,
   "id": "a3c1494c",
   "metadata": {},
   "outputs": [],
   "source": [
    "X_train = X_train / 255.0\n",
    "X_dev = X_dev / 255.0\n",
    "X_test = X_test / 255.0"
   ]
  },
  {
   "cell_type": "markdown",
   "id": "a49ac01f",
   "metadata": {},
   "source": [
    "Convert y_train / y_dev / y_test datasets as:\n",
    "* if class is 5 (digit 5) convert to 0\n",
    "* if class is 6 (digit 6) convert to 1\n",
    "\n",
    "This will help us at optimizer implemantation."
   ]
  },
  {
   "cell_type": "code",
   "execution_count": 10,
   "id": "ae3dee46",
   "metadata": {},
   "outputs": [],
   "source": [
    "y_train = (y_train == 6).astype(int)\n",
    "y_dev = (y_dev == 6).astype(int)\n",
    "y_test = (y_test == 6).astype(int)"
   ]
  },
  {
   "cell_type": "markdown",
   "id": "edbfa0a3",
   "metadata": {},
   "source": [
    "# PART B (Logistic Regression)"
   ]
  },
  {
   "cell_type": "markdown",
   "id": "0da1d8a1",
   "metadata": {},
   "source": [
    "### Sigmoid Function"
   ]
  },
  {
   "cell_type": "code",
   "execution_count": 14,
   "id": "7bf26c88",
   "metadata": {},
   "outputs": [],
   "source": [
    "def sigmoid(z):\n",
    "    return 1.0 / (1 + np.exp(-z))"
   ]
  },
  {
   "cell_type": "markdown",
   "id": "4213928e",
   "metadata": {},
   "source": [
    "### computeCostGrads\n",
    "\n",
    "function that computes and returns:\n",
    "\n",
    "* **cost J**\n",
    "* **gradients**,\n",
    "\n",
    "***without*** using L2 regularization"
   ]
  },
  {
   "cell_type": "code",
   "execution_count": 213,
   "id": "d9c6da25",
   "metadata": {},
   "outputs": [],
   "source": [
    "def computeCostGrads(X, y, w, b, _lambda=0.):\n",
    "    y_hat = sigmoid(np.dot(X, w) + b)\n",
    "    m = X.shape[0]\n",
    "    \n",
    "    cost = (np.dot(y.T, np.log(y_hat)) + np.dot(y.T, np.log(1 - y_hat)))\n",
    "    dw = np.dot(X.T, y - y_hat)\n",
    "    db = np.sum(y - y_hat)\n",
    "    \n",
    "    if(_lambda != 0.):\n",
    "        cost -= (_lambda / 2.0) * np.sum(w**2)\n",
    "        regularization_term = _lambda * w\n",
    "        dw -= regularization_term\n",
    "        \n",
    "    dw /= m\n",
    "    db /= m\n",
    "    \n",
    "    grads = {\"dw\": dw, \"db\": db}\n",
    "    \n",
    "    return cost, grads"
   ]
  },
  {
   "cell_type": "markdown",
   "id": "43fff4ec",
   "metadata": {},
   "source": [
    "### Logistic Regression Algorithm"
   ]
  },
  {
   "cell_type": "code",
   "execution_count": 220,
   "id": "6a4dbed8",
   "metadata": {},
   "outputs": [],
   "source": [
    "def LogisticRegression(X, y, X_pred=None, y_pred=None, epochs = 200, alpha = 0.05, _lambda = 0.1):\n",
    "    \n",
    "    m, n = X.shape\n",
    "    b = 0\n",
    "    w = np.zeros(n).reshape((-1,1))\n",
    "    J = np.zeros(epochs)\n",
    "    train_accuracy_per_epoch = np.zeros(epochs)\n",
    "    test_accuracy_per_epoch = np.zeros(epochs)\n",
    "    \n",
    "    for epoch in tqdm(range(epochs)):\n",
    "        cost, grads = computeCostGrads(X, y, w, b, _lambda)\n",
    "        \n",
    "        J[epoch] = cost\n",
    "        \n",
    "        w += alpha * grads[\"dw\"]\n",
    "        b += alpha * grads[\"db\"]\n",
    "        \n",
    "        \n",
    "        current_epoch_preds = predict(w, b, X_pred)\n",
    "        test_accuracy_per_epoch[epoch] = sum(current_epoch_preds == y_pred) / y_pred.shape[0] \n",
    "        current_epoch_preds = predict(w, b, X)\n",
    "        train_accuracy_per_epoch[epoch] = sum(current_epoch_preds == y.reshape(-1)) / y.shape[0]\n",
    "        \n",
    "    return J, w, b, train_accuracy_per_epoch, test_accuracy_per_epoch"
   ]
  },
  {
   "cell_type": "markdown",
   "id": "c840c468",
   "metadata": {},
   "source": [
    "### Predict"
   ]
  },
  {
   "cell_type": "code",
   "execution_count": 221,
   "id": "45a9b39c",
   "metadata": {},
   "outputs": [],
   "source": [
    "def predict(w, b, X):\n",
    "    \n",
    "    predictions = sigmoid(np.dot(X, w) + b)\n",
    "    predictions = (predictions >= (0.5 + 1e-6)).astype(int)\n",
    "    \n",
    "    return predictions.reshape(-1)"
   ]
  },
  {
   "cell_type": "code",
   "execution_count": 226,
   "id": "f080e887",
   "metadata": {},
   "outputs": [
    {
     "name": "stderr",
     "output_type": "stream",
     "text": [
      "100%|██████████████████████████████████████████████████████████████████████████████| 1000/1000 [03:30<00:00,  4.74it/s]\n"
     ]
    },
    {
     "data": {
      "text/plain": [
       "'0.979'"
      ]
     },
     "execution_count": 226,
     "metadata": {},
     "output_type": "execute_result"
    }
   ],
   "source": [
    "J, w, b, train_acc, test_acc = LogisticRegression(X_train, y_train.reshape((-1,1)), epochs = 1000, X_pred=X_test, y_pred=y_test)\n",
    "predictions = predict(w, b, X_test)\n",
    "\n",
    "accuracy = sum(predictions == y_test) / y_test.shape[0]\n",
    "accuracy  = f'{accuracy:.3f}'\n",
    "accuracy"
   ]
  },
  {
   "cell_type": "code",
   "execution_count": 223,
   "id": "4e0f8fab",
   "metadata": {},
   "outputs": [
    {
     "data": {
      "text/plain": [
       "'0.966'"
      ]
     },
     "execution_count": 223,
     "metadata": {},
     "output_type": "execute_result"
    }
   ],
   "source": [
    "predictions = predict(w, b, X_train)\n",
    "\n",
    "accuracy = sum(predictions == y_train) / y_train.shape[0]\n",
    "accuracy  = f'{accuracy:.3f}'\n",
    "accuracy"
   ]
  },
  {
   "cell_type": "code",
   "execution_count": 224,
   "id": "0a0a06bf",
   "metadata": {},
   "outputs": [
    {
     "data": {
      "image/png": "[encoded data removed]",
      "text/plain": [
       "<Figure size 640x480 with 1 Axes>"
      ]
     },
     "metadata": {},
     "output_type": "display_data"
    }
   ],
   "source": [
    "plt.plot(np.arange(J.shape[0]), J)\n",
    "plt.title(\"Cost over iterations\")\n",
    "plt.xlabel(\"Number of iterations\")\n",
    "plt.ylabel(\"Cost J function\")\n",
    "plt.show()\n"
   ]
  },
  {
   "cell_type": "code",
   "execution_count": 225,
   "id": "85120d6d",
   "metadata": {},
   "outputs": [
    {
     "data": {
      "image/png": "[encoded data removed]",
      "text/plain": [
       "<Figure size 640x480 with 1 Axes>"
      ]
     },
     "metadata": {},
     "output_type": "display_data"
    }
   ],
   "source": [
    "plt.plot(np.arange(test_acc.shape[0]), 1-test_acc, c ='r')\n",
    "plt.plot(np.arange(train_acc.shape[0]),1- train_acc, c ='b')\n",
    "plt.title(\"Accuracy per epoch\")\n",
    "plt.xlabel(\"Number of epochs\")\n",
    "plt.ylabel(\"Accuracy\")\n",
    "plt.show()"
   ]
  },
  {
   "cell_type": "markdown",
   "id": "1c97641a",
   "metadata": {},
   "source": [
    "### Use L2 Regularization Term\n",
    "\n",
    "Instead of choosing 100 values for l2 regularization term uniformly in the range [$10^{-4}$ - $10^1$], we choose values uniformly in the below ranges:\n",
    "* [$10^{-4}$ - $10^{-3}$]\n",
    "* [$10^{-3}$ - $10^{-2}$]\n",
    "* [$10^{-2}$ - $10^{-1}$]\n",
    "* [$10^{-1}$ - $10^0$]\n",
    "* [$10^0$ - $10^1$]"
   ]
  },
  {
   "cell_type": "code",
   "execution_count": 49,
   "id": "af9c7ef9",
   "metadata": {},
   "outputs": [],
   "source": [
    "random.seed(10)\n",
    "lambdas = np.zeros(50)\n",
    "for i in range (lambdas.shape[0]):\n",
    "    lambdas[i] = 10**(-5*random.random()) * 10"
   ]
  },
  {
   "cell_type": "code",
   "execution_count": 50,
   "id": "4439f21c",
   "metadata": {},
   "outputs": [],
   "source": [
    "random.seed(10)\n",
    "alphas = np.zeros(20)\n",
    "for i in range (alphas.shape[0]):\n",
    "    alphas[i] = 10**(-4*random.random())"
   ]
  },
  {
   "cell_type": "code",
   "execution_count": null,
   "id": "b6d1849f",
   "metadata": {},
   "outputs": [],
   "source": [
    "best_w = []\n",
    "best_b = 0\n",
    "best_accuracy = 0\n",
    "best_lambda = 0\n",
    "best_alpha = 0\n",
    "\n",
    "i=0\n",
    "\n",
    "for _lambda in lambdas:\n",
    "    \n",
    "    for alpha in tqdm(alphas):\n",
    "        _, w, b= LogisticRegression(X_train, y_train.reshape((-1,1)), alpha = alpha, epochs=50, _lambda=_lambda)\n",
    "        predictions = predict(w, b, X_dev)\n",
    "        accuracy = sum(predictions == y_dev) / y_dev.shape[0]\n",
    "    \n",
    "        if accuracy > best_accuracy:\n",
    "            best_w = w\n",
    "            best_b = b\n",
    "            best_accuracy = accuracy\n",
    "            best_lambda =  _lambda\n",
    "            best_alpha = alpha\n",
    "    \n",
    "    print(i)\n",
    "    i+=1\n"
   ]
  },
  {
   "cell_type": "markdown",
   "id": "3d32971c",
   "metadata": {},
   "source": [
    "# PART C (Neural Netwroks)"
   ]
  },
  {
   "cell_type": "code",
   "execution_count": 30,
   "id": "a5274ddc",
   "metadata": {},
   "outputs": [],
   "source": [
    "class Layer:\n",
    "    def __init__(self, units, weights, activation = sigmoid):\n",
    "        self.W = np.random.randn(units, weights) * 0.01\n",
    "        self.b = np.zeros((units, 1))\n",
    "        self.activation = activation\n",
    "         \n",
    "    def forward_prop(self, A_previous):\n",
    "        self.Z = np.dot(self.W, A_previous) + self.b\n",
    "        self.A = self.activation(self.Z)\n",
    "        return self.A\n",
    "        \n",
    "    def back_prop(self, upper_layer, A_previous, m, learning_rate):\n",
    "        self.dZ = upper_layer.W.T.dot(upper_layer.dZ) * d_sigmoid(self.Z)\n",
    "        self.dW = (1/m) * self.dZ.dot(A_previous.T)\n",
    "        self.db = (1/m) * np.sum(self.dZ, axis=1,keepdims=True)\n",
    "        self.W -= learning_rate*self.dW\n",
    "        self.b -= learning_rate*self.db"
   ]
  },
  {
   "cell_type": "code",
   "execution_count": 69,
   "id": "6d2f2408",
   "metadata": {},
   "outputs": [],
   "source": [
    "class NeuralNetwork:\n",
    "    def __init__(self):\n",
    "        self.layers = []\n",
    "        self.J = np.array([])\n",
    "        \n",
    "    def input_layer(self, X, Y):\n",
    "        self.X = X.T\n",
    "        self.Y = Y\n",
    "        self.m, self.n = self.X.shape\n",
    "    \n",
    "    def add(self, layer):\n",
    "        self.layers.append(layer)\n",
    "        \n",
    "    def forward_prop(self, X, Y):\n",
    "        A_previous = X\n",
    "        for layer in self.layers:\n",
    "            A_previous = layer.forward_prop(A_previous)\n",
    "            \n",
    "        self.y_hat = A_previous\n",
    "        \n",
    "        cost = (np.dot(Y.reshape(-1,1).T, np.log(self.y_hat.reshape(-1,1))) \n",
    "                + np.dot(Y.reshape(-1,1).T, np.log(1 - self.y_hat.reshape(-1,1))))\n",
    "        \n",
    "        cost = cost / X.shape[1]\n",
    "        \n",
    "        self.J = np.append(self.J, cost)\n",
    "        \n",
    "        return self.y_hat, cost\n",
    "        \n",
    "    \n",
    "    def __back_prop(self, learning_rate):\n",
    "        self.layers[-1].dZ = self.y_hat - self.Y\n",
    "        self.layers[-1].dW = (1/self.m) * self.layers[-1].dZ.dot(self.layers[-2].A.T)\n",
    "        self.layers[-1].db = (1/self.m) * np.sum(self.layers[-1].dZ, axis=1,keepdims=True)\n",
    "        self.layers[-1].W -=  learning_rate*self.layers[-1].dW\n",
    "        self.layers[-1].b -=  learning_rate*self.layers[-1].db\n",
    "        \n",
    "        for i in range(len(self.layers)-2, 0, -1):\n",
    "            self.layers[i].back_prop(self.layers[i+1], self.layers[i-1].A, self.m, learning_rate)\n",
    "            \n",
    "        self.layers[0].back_prop(self.layers[1], self.X, self.m, learning_rate)\n",
    "        \n",
    "    def train(self, epochs=100, learning_rate=0.5, early_stopping = False):\n",
    "        \n",
    "        if early_stopping:\n",
    "            self.epochs = 0\n",
    "            \n",
    "            while True:\n",
    "                self.forward_prop(self.X, self.Y)\n",
    "                self.__back_prop(learning_rate)\n",
    "                \n",
    "                self.epochs+=1\n",
    "                learning_rate *= 0.99\n",
    "                \n",
    "                if self.J[-1] >= self.J[-1:-6:-1].all() or self.epochs == epochs:\n",
    "                    break\n",
    "                    \n",
    "        else:\n",
    "            for epoch in tqdm(range(epochs)):\n",
    "                self.forward_prop(self.X, self.Y)\n",
    "                self.__back_prop(learning_rate)\n",
    "    \n",
    "    def predict(self, X, Y):\n",
    "        predictions, _ = self.forward_prop(X.T, Y)\n",
    "        predictions = (predictions >= (0.5 + 1e-6)).astype(int)\n",
    "    \n",
    "        return predictions.reshape(-1)\n",
    "    \n",
    "    def accuracy(self, X, Y):\n",
    "        preds = self.predict(X, Y)\n",
    "        accuracy = sum(preds == Y) / Y.shape[0]\n",
    "        \n",
    "        return accuracy"
   ]
  },
  {
   "cell_type": "code",
   "execution_count": 70,
   "id": "b2a4c08d",
   "metadata": {},
   "outputs": [],
   "source": [
    "def d_sigmoid(Z):\n",
    "    return sigmoid(Z)*(1-sigmoid(Z))"
   ]
  },
  {
   "cell_type": "code",
   "execution_count": 72,
   "id": "1b048bc1",
   "metadata": {},
   "outputs": [
    {
     "name": "stderr",
     "output_type": "stream",
     "text": [
      "<ipython-input-69-b9549836598a>:22: RuntimeWarning: divide by zero encountered in log\n",
      "  + np.dot(Y.reshape(-1,1).T, np.log(1 - self.y_hat.reshape(-1,1))))\n"
     ]
    }
   ],
   "source": [
    "hidden_layer = Layer(4, X_train.shape[1])\n",
    "output_layer = Layer(1, hidden_layer.W.shape[0])\n",
    "\n",
    "nn = NeuralNetwork()\n",
    "\n",
    "nn.input_layer(X_train, y_train)\n",
    "nn.add(hidden_layer)\n",
    "nn.add(output_layer)\n",
    "\n",
    "nn.train(learning_rate=0.5, epochs = 5000, early_stopping=True)"
   ]
  },
  {
   "cell_type": "code",
   "execution_count": 74,
   "id": "793eb2d0",
   "metadata": {},
   "outputs": [
    {
     "name": "stdout",
     "output_type": "stream",
     "text": [
      "0.5219931650314188\n",
      "0.5216049382716049\n",
      "0.5178378378378379\n"
     ]
    }
   ],
   "source": [
    "print(nn.accuracy(X_train, y_train))\n",
    "print(nn.accuracy(X_dev, y_dev))\n",
    "print(nn.accuracy(X_test, y_test))"
   ]
  },
  {
   "cell_type": "code",
   "execution_count": 52,
   "id": "5ef38331",
   "metadata": {},
   "outputs": [],
   "source": [
    "random.seed(42)\n",
    "alphas = np.zeros(10)\n",
    "for i in range (alphas.shape[0]):\n",
    "    alphas[i] = 10**(-5*random.random())\n",
    "    \n",
    "M = [2**i for i in range(1, 11)]"
   ]
  },
  {
   "cell_type": "code",
   "execution_count": 53,
   "id": "ac106724",
   "metadata": {},
   "outputs": [
    {
     "name": "stderr",
     "output_type": "stream",
     "text": [
      " 60%|█████████████████████████████████████████████████▊                                 | 6/10 [07:31<05:00, 75.22s/it]\n"
     ]
    },
    {
     "ename": "KeyboardInterrupt",
     "evalue": "",
     "output_type": "error",
     "traceback": [
      "\u001b[1;31m---------------------------------------------------------------------------\u001b[0m",
      "\u001b[1;31mKeyboardInterrupt\u001b[0m                         Traceback (most recent call last)",
      "\u001b[1;32m<ipython-input-53-7f00dae211f8>\u001b[0m in \u001b[0;36m<module>\u001b[1;34m\u001b[0m\n\u001b[0;32m     15\u001b[0m         \u001b[0mnn\u001b[0m\u001b[1;33m.\u001b[0m\u001b[0madd\u001b[0m\u001b[1;33m(\u001b[0m\u001b[0moutput_layer\u001b[0m\u001b[1;33m)\u001b[0m\u001b[1;33m\u001b[0m\u001b[1;33m\u001b[0m\u001b[0m\n\u001b[0;32m     16\u001b[0m \u001b[1;33m\u001b[0m\u001b[0m\n\u001b[1;32m---> 17\u001b[1;33m         \u001b[0mnn\u001b[0m\u001b[1;33m.\u001b[0m\u001b[0mtrain\u001b[0m\u001b[1;33m(\u001b[0m\u001b[0mlearning_rate\u001b[0m\u001b[1;33m=\u001b[0m\u001b[0ma\u001b[0m\u001b[1;33m,\u001b[0m \u001b[0mepochs\u001b[0m \u001b[1;33m=\u001b[0m \u001b[1;36m1000\u001b[0m\u001b[1;33m,\u001b[0m \u001b[0mearly_stopping\u001b[0m\u001b[1;33m=\u001b[0m\u001b[1;32mTrue\u001b[0m\u001b[1;33m)\u001b[0m\u001b[1;33m\u001b[0m\u001b[1;33m\u001b[0m\u001b[0m\n\u001b[0m\u001b[0;32m     18\u001b[0m \u001b[1;33m\u001b[0m\u001b[0m\n\u001b[0;32m     19\u001b[0m         \u001b[0my\u001b[0m\u001b[1;33m,\u001b[0m \u001b[0mcost\u001b[0m \u001b[1;33m=\u001b[0m \u001b[0mnn\u001b[0m\u001b[1;33m.\u001b[0m\u001b[0mforward_prop\u001b[0m\u001b[1;33m(\u001b[0m\u001b[0mX_dev\u001b[0m\u001b[1;33m.\u001b[0m\u001b[0mT\u001b[0m\u001b[1;33m,\u001b[0m \u001b[0my_dev\u001b[0m\u001b[1;33m)\u001b[0m\u001b[1;33m\u001b[0m\u001b[1;33m\u001b[0m\u001b[0m\n",
      "\u001b[1;32m<ipython-input-50-64de01a20ba9>\u001b[0m in \u001b[0;36mtrain\u001b[1;34m(self, epochs, learning_rate, early_stopping)\u001b[0m\n\u001b[0;32m     48\u001b[0m             \u001b[1;32mwhile\u001b[0m \u001b[1;32mTrue\u001b[0m\u001b[1;33m:\u001b[0m\u001b[1;33m\u001b[0m\u001b[1;33m\u001b[0m\u001b[0m\n\u001b[0;32m     49\u001b[0m                 \u001b[0mself\u001b[0m\u001b[1;33m.\u001b[0m\u001b[0mforward_prop\u001b[0m\u001b[1;33m(\u001b[0m\u001b[0mself\u001b[0m\u001b[1;33m.\u001b[0m\u001b[0mX\u001b[0m\u001b[1;33m,\u001b[0m \u001b[0mself\u001b[0m\u001b[1;33m.\u001b[0m\u001b[0mY\u001b[0m\u001b[1;33m)\u001b[0m\u001b[1;33m\u001b[0m\u001b[1;33m\u001b[0m\u001b[0m\n\u001b[1;32m---> 50\u001b[1;33m                 \u001b[0mself\u001b[0m\u001b[1;33m.\u001b[0m\u001b[0m__back_prop\u001b[0m\u001b[1;33m(\u001b[0m\u001b[0mlearning_rate\u001b[0m\u001b[1;33m)\u001b[0m\u001b[1;33m\u001b[0m\u001b[1;33m\u001b[0m\u001b[0m\n\u001b[0m\u001b[0;32m     51\u001b[0m \u001b[1;33m\u001b[0m\u001b[0m\n\u001b[0;32m     52\u001b[0m                 \u001b[0mself\u001b[0m\u001b[1;33m.\u001b[0m\u001b[0mepochs\u001b[0m\u001b[1;33m+=\u001b[0m\u001b[1;36m1\u001b[0m\u001b[1;33m\u001b[0m\u001b[1;33m\u001b[0m\u001b[0m\n",
      "\u001b[1;32m<ipython-input-50-64de01a20ba9>\u001b[0m in \u001b[0;36m__back_prop\u001b[1;34m(self, learning_rate)\u001b[0m\n\u001b[0;32m     39\u001b[0m             \u001b[0mself\u001b[0m\u001b[1;33m.\u001b[0m\u001b[0mlayers\u001b[0m\u001b[1;33m[\u001b[0m\u001b[0mi\u001b[0m\u001b[1;33m]\u001b[0m\u001b[1;33m.\u001b[0m\u001b[0mback_prop\u001b[0m\u001b[1;33m(\u001b[0m\u001b[0mself\u001b[0m\u001b[1;33m.\u001b[0m\u001b[0mlayers\u001b[0m\u001b[1;33m[\u001b[0m\u001b[0mi\u001b[0m\u001b[1;33m+\u001b[0m\u001b[1;36m1\u001b[0m\u001b[1;33m]\u001b[0m\u001b[1;33m,\u001b[0m \u001b[0mself\u001b[0m\u001b[1;33m.\u001b[0m\u001b[0mlayers\u001b[0m\u001b[1;33m[\u001b[0m\u001b[0mi\u001b[0m\u001b[1;33m-\u001b[0m\u001b[1;36m1\u001b[0m\u001b[1;33m]\u001b[0m\u001b[1;33m.\u001b[0m\u001b[0mA\u001b[0m\u001b[1;33m,\u001b[0m \u001b[0mself\u001b[0m\u001b[1;33m.\u001b[0m\u001b[0mm\u001b[0m\u001b[1;33m,\u001b[0m \u001b[0mlearning_rate\u001b[0m\u001b[1;33m)\u001b[0m\u001b[1;33m\u001b[0m\u001b[1;33m\u001b[0m\u001b[0m\n\u001b[0;32m     40\u001b[0m \u001b[1;33m\u001b[0m\u001b[0m\n\u001b[1;32m---> 41\u001b[1;33m         \u001b[0mself\u001b[0m\u001b[1;33m.\u001b[0m\u001b[0mlayers\u001b[0m\u001b[1;33m[\u001b[0m\u001b[1;36m0\u001b[0m\u001b[1;33m]\u001b[0m\u001b[1;33m.\u001b[0m\u001b[0mback_prop\u001b[0m\u001b[1;33m(\u001b[0m\u001b[0mself\u001b[0m\u001b[1;33m.\u001b[0m\u001b[0mlayers\u001b[0m\u001b[1;33m[\u001b[0m\u001b[1;36m1\u001b[0m\u001b[1;33m]\u001b[0m\u001b[1;33m,\u001b[0m \u001b[0mself\u001b[0m\u001b[1;33m.\u001b[0m\u001b[0mX\u001b[0m\u001b[1;33m,\u001b[0m \u001b[0mself\u001b[0m\u001b[1;33m.\u001b[0m\u001b[0mm\u001b[0m\u001b[1;33m,\u001b[0m \u001b[0mlearning_rate\u001b[0m\u001b[1;33m)\u001b[0m\u001b[1;33m\u001b[0m\u001b[1;33m\u001b[0m\u001b[0m\n\u001b[0m\u001b[0;32m     42\u001b[0m \u001b[1;33m\u001b[0m\u001b[0m\n\u001b[0;32m     43\u001b[0m     \u001b[1;32mdef\u001b[0m \u001b[0mtrain\u001b[0m\u001b[1;33m(\u001b[0m\u001b[0mself\u001b[0m\u001b[1;33m,\u001b[0m \u001b[0mepochs\u001b[0m\u001b[1;33m=\u001b[0m\u001b[1;36m100\u001b[0m\u001b[1;33m,\u001b[0m \u001b[0mlearning_rate\u001b[0m\u001b[1;33m=\u001b[0m\u001b[1;36m0.5\u001b[0m\u001b[1;33m,\u001b[0m \u001b[0mearly_stopping\u001b[0m \u001b[1;33m=\u001b[0m \u001b[1;32mFalse\u001b[0m\u001b[1;33m)\u001b[0m\u001b[1;33m:\u001b[0m\u001b[1;33m\u001b[0m\u001b[1;33m\u001b[0m\u001b[0m\n",
      "\u001b[1;32m<ipython-input-30-cc0efa4b633f>\u001b[0m in \u001b[0;36mback_prop\u001b[1;34m(self, upper_layer, A_previous, m, learning_rate)\u001b[0m\n\u001b[0;32m     12\u001b[0m     \u001b[1;32mdef\u001b[0m \u001b[0mback_prop\u001b[0m\u001b[1;33m(\u001b[0m\u001b[0mself\u001b[0m\u001b[1;33m,\u001b[0m \u001b[0mupper_layer\u001b[0m\u001b[1;33m,\u001b[0m \u001b[0mA_previous\u001b[0m\u001b[1;33m,\u001b[0m \u001b[0mm\u001b[0m\u001b[1;33m,\u001b[0m \u001b[0mlearning_rate\u001b[0m\u001b[1;33m)\u001b[0m\u001b[1;33m:\u001b[0m\u001b[1;33m\u001b[0m\u001b[1;33m\u001b[0m\u001b[0m\n\u001b[0;32m     13\u001b[0m         \u001b[0mself\u001b[0m\u001b[1;33m.\u001b[0m\u001b[0mdZ\u001b[0m \u001b[1;33m=\u001b[0m \u001b[0mupper_layer\u001b[0m\u001b[1;33m.\u001b[0m\u001b[0mW\u001b[0m\u001b[1;33m.\u001b[0m\u001b[0mT\u001b[0m\u001b[1;33m.\u001b[0m\u001b[0mdot\u001b[0m\u001b[1;33m(\u001b[0m\u001b[0mupper_layer\u001b[0m\u001b[1;33m.\u001b[0m\u001b[0mdZ\u001b[0m\u001b[1;33m)\u001b[0m \u001b[1;33m*\u001b[0m \u001b[0md_sigmoid\u001b[0m\u001b[1;33m(\u001b[0m\u001b[0mself\u001b[0m\u001b[1;33m.\u001b[0m\u001b[0mZ\u001b[0m\u001b[1;33m)\u001b[0m\u001b[1;33m\u001b[0m\u001b[1;33m\u001b[0m\u001b[0m\n\u001b[1;32m---> 14\u001b[1;33m         \u001b[0mself\u001b[0m\u001b[1;33m.\u001b[0m\u001b[0mdW\u001b[0m \u001b[1;33m=\u001b[0m \u001b[1;33m(\u001b[0m\u001b[1;36m1\u001b[0m\u001b[1;33m/\u001b[0m\u001b[0mm\u001b[0m\u001b[1;33m)\u001b[0m \u001b[1;33m*\u001b[0m \u001b[0mself\u001b[0m\u001b[1;33m.\u001b[0m\u001b[0mdZ\u001b[0m\u001b[1;33m.\u001b[0m\u001b[0mdot\u001b[0m\u001b[1;33m(\u001b[0m\u001b[0mA_previous\u001b[0m\u001b[1;33m.\u001b[0m\u001b[0mT\u001b[0m\u001b[1;33m)\u001b[0m\u001b[1;33m\u001b[0m\u001b[1;33m\u001b[0m\u001b[0m\n\u001b[0m\u001b[0;32m     15\u001b[0m         \u001b[0mself\u001b[0m\u001b[1;33m.\u001b[0m\u001b[0mdb\u001b[0m \u001b[1;33m=\u001b[0m \u001b[1;33m(\u001b[0m\u001b[1;36m1\u001b[0m\u001b[1;33m/\u001b[0m\u001b[0mm\u001b[0m\u001b[1;33m)\u001b[0m \u001b[1;33m*\u001b[0m \u001b[0mnp\u001b[0m\u001b[1;33m.\u001b[0m\u001b[0msum\u001b[0m\u001b[1;33m(\u001b[0m\u001b[0mself\u001b[0m\u001b[1;33m.\u001b[0m\u001b[0mdZ\u001b[0m\u001b[1;33m,\u001b[0m \u001b[0maxis\u001b[0m\u001b[1;33m=\u001b[0m\u001b[1;36m1\u001b[0m\u001b[1;33m,\u001b[0m\u001b[0mkeepdims\u001b[0m\u001b[1;33m=\u001b[0m\u001b[1;32mTrue\u001b[0m\u001b[1;33m)\u001b[0m\u001b[1;33m\u001b[0m\u001b[1;33m\u001b[0m\u001b[0m\n\u001b[0;32m     16\u001b[0m         \u001b[0mself\u001b[0m\u001b[1;33m.\u001b[0m\u001b[0mW\u001b[0m \u001b[1;33m-=\u001b[0m \u001b[0mlearning_rate\u001b[0m\u001b[1;33m*\u001b[0m\u001b[0mself\u001b[0m\u001b[1;33m.\u001b[0m\u001b[0mdW\u001b[0m\u001b[1;33m\u001b[0m\u001b[1;33m\u001b[0m\u001b[0m\n",
      "\u001b[1;31mKeyboardInterrupt\u001b[0m: "
     ]
    }
   ],
   "source": [
    "min_cost = 10**10\n",
    "best_a = 0\n",
    "best_m = 0\n",
    "best_epochs = 0\n",
    "\n",
    "for a in alphas:\n",
    "    for m in tqdm(M):\n",
    "        hidden_layer = Layer(m, X_train.shape[1])\n",
    "        output_layer = Layer(1, hidden_layer.W.shape[0])\n",
    "\n",
    "        nn = NeuralNetwork()\n",
    "\n",
    "        nn.input_layer(X_train, y_train)\n",
    "        nn.add(hidden_layer)\n",
    "        nn.add(output_layer)\n",
    "\n",
    "        nn.train(learning_rate=a, epochs = 1000, early_stopping=True)\n",
    "        \n",
    "        y, cost = nn.forward_prop(X_dev.T, y_dev)\n",
    "        if cost < min_cost:\n",
    "            min_cost=cost\n",
    "            best_a=a\n",
    "            best_m=m\n",
    "            best_epochs=nn.epochs\n",
    "        "
   ]
  },
  {
   "cell_type": "code",
   "execution_count": 67,
   "id": "f5f953a6",
   "metadata": {
    "scrolled": true
   },
   "outputs": [
    {
     "data": {
      "image/png": "[encoded data removed]",
      "text/plain": [
       "<Figure size 432x288 with 1 Axes>"
      ]
     },
     "metadata": {
      "needs_background": "light"
     },
     "output_type": "display_data"
    }
   ],
   "source": [
    "plt.plot(np.arange(nn.J.shape[0]), nn.J)\n",
    "plt.title(\"Cost over iterations\")\n",
    "plt.xlabel(\"Number of iterations\")\n",
    "plt.ylabel(\"Cost J function\")\n",
    "plt.show()\n"
   ]
  },
  {
   "cell_type": "code",
   "execution_count": null,
   "id": "c422e538",
   "metadata": {},
   "outputs": [],
   "source": []
  }
 ],
 "metadata": {
  "kernelspec": {
   "display_name": "Python 3",
   "language": "python",
   "name": "python3"
  },
  "language_info": {
   "codemirror_mode": {
    "name": "ipython",
    "version": 3
   },
   "file_extension": ".py",
   "mimetype": "text/x-python",
   "name": "python",
   "nbconvert_exporter": "python",
   "pygments_lexer": "ipython3",
   "version": "3.8.8"
  }
 },
 "nbformat": 4,
 "nbformat_minor": 5
}
