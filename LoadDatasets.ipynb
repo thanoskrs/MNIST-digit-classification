{
 "cells": [
  {
   "cell_type": "markdown",
   "id": "b8ea44b2",
   "metadata": {},
   "source": [
    "Util function that loads the datasets as in PART A."
   ]
  },
  {
   "cell_type": "code",
   "execution_count": null,
   "id": "cc372e34",
   "metadata": {},
   "outputs": [],
   "source": [
    "import numpy as np\n",
    "import tensorflow as tf\n",
    "from sklearn.model_selection import train_test_split\n",
    "\n",
    "def load_datasets():\n",
    "    (X_train, y_train), (X_test, y_test) = tf.keras.datasets.mnist.load_data()\n",
    "\n",
    "    train_filter = np.isin(y_train, [5, 6])\n",
    "    test_filter = np.isin(y_test, [5, 6])\n",
    "\n",
    "    X_train, y_train = X_train[train_filter], y_train[train_filter]\n",
    "    X_test, y_test = X_test[test_filter], y_test[test_filter]\n",
    "    \n",
    "    X_train, X_dev, y_train, y_dev = train_test_split( X_train, y_train, test_size=0.2, random_state=42)\n",
    "    \n",
    "    X_train = X_train.reshape(X_train.shape[0], -1)\n",
    "    X_dev = X_dev.reshape(X_dev.shape[0], -1)\n",
    "    X_test = X_test.reshape(X_test.shape[0], -1)\n",
    "    \n",
    "    X_train = X_train / 255.0\n",
    "    X_dev = X_dev / 255.0\n",
    "    X_test = X_test / 255.0\n",
    "    \n",
    "    y_train = (y_train == 6).astype(int).reshape(-1,1)\n",
    "    y_dev = (y_dev == 6).astype(int).reshape(-1,1)\n",
    "    y_test = (y_test == 6).astype(int).reshape(-1,1)\n",
    "    \n",
    "    return X_train, y_train, X_dev, y_dev, X_test, y_test"
   ]
  }
 ],
 "metadata": {
  "kernelspec": {
   "display_name": "Python 3 (ipykernel)",
   "language": "python",
   "name": "python3"
  },
  "language_info": {
   "codemirror_mode": {
    "name": "ipython",
    "version": 3
   },
   "file_extension": ".py",
   "mimetype": "text/x-python",
   "name": "python",
   "nbconvert_exporter": "python",
   "pygments_lexer": "ipython3",
   "version": "3.9.0"
  }
 },
 "nbformat": 4,
 "nbformat_minor": 5
}
