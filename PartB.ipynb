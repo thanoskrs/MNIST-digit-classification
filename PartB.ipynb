{
 "cells": [
  {
   "cell_type": "markdown",
   "id": "19aa67bb",
   "metadata": {},
   "source": [
    "# PART B (Logistic Regression)"
   ]
  },
  {
   "cell_type": "code",
   "execution_count": 31,
   "id": "fdd6ed0b",
   "metadata": {},
   "outputs": [],
   "source": [
    "from ipynb.fs.full.LogisticRegression import *\n",
    "from ipynb.fs.full.LoadDatasets import *"
   ]
  },
  {
   "cell_type": "code",
   "execution_count": 32,
   "id": "ff14a2d6",
   "metadata": {},
   "outputs": [],
   "source": [
    "X_train, y_train, X_dev, y_dev, X_test, y_test = load_datasets()"
   ]
  },
  {
   "cell_type": "code",
   "execution_count": 33,
   "id": "fee507df",
   "metadata": {},
   "outputs": [
    {
     "name": "stderr",
     "output_type": "stream",
     "text": [
      "100%|███████████████████████████████████████████████████████████████████████████████| 500/500 [00:04<00:00, 117.93it/s]\n"
     ]
    }
   ],
   "source": [
    "lr = LogisticRegression()\n",
    "lr.fit(X_train, y_train, alpha=0.1, epochs = 500)"
   ]
  },
  {
   "cell_type": "code",
   "execution_count": 34,
   "id": "4721bf60",
   "metadata": {},
   "outputs": [
    {
     "name": "stdout",
     "output_type": "stream",
     "text": [
      "Train Accuracy:  0.976\n",
      "Dev Accuracy:  0.973\n",
      "Test Accuracy:  0.979\n"
     ]
    }
   ],
   "source": [
    "print(\"Train Accuracy: \", f'{lr.accuracy(X_train, y_train):.3f}')\n",
    "print(\"Dev Accuracy: \", f'{lr.accuracy(X_dev, y_dev):.3f}')\n",
    "print(\"Test Accuracy: \", f'{lr.accuracy(X_test, y_test):.3f}')"
   ]
  },
  {
   "cell_type": "markdown",
   "id": "f69bcc6e",
   "metadata": {},
   "source": [
    "### Use L2 Regularization Term\n",
    "\n",
    "Instead of choosing 100 values for l2 regularization term uniformly in the range [$10^{-4}$ - $10^1$], we choose values uniformly in the below ranges:\n",
    "* [$10^{-4}$ - $10^{-3}$]\n",
    "* [$10^{-3}$ - $10^{-2}$]\n",
    "* [$10^{-2}$ - $10^{-1}$]\n",
    "* [$10^{-1}$ - $10^0$]\n",
    "* [$10^0$ - $10^1$]"
   ]
  },
  {
   "cell_type": "code",
   "execution_count": 35,
   "id": "5e1e99ff",
   "metadata": {},
   "outputs": [],
   "source": [
    "import random\n",
    "\n",
    "random.seed(31)\n",
    "lambdas = np.array([10**(-5*random.random()) * 10 for i in range(100)])"
   ]
  },
  {
   "cell_type": "code",
   "execution_count": 36,
   "id": "57a0e318",
   "metadata": {},
   "outputs": [
    {
     "name": "stderr",
     "output_type": "stream",
     "text": [
      "100%|████████████████████████████████████████████████████████████████████████████████| 100/100 [01:20<00:00,  1.24it/s]\n"
     ]
    }
   ],
   "source": [
    "dev_accs = np.zeros(lambdas.shape[0])\n",
    "\n",
    "for i in tqdm(range(lambdas.shape[0])):\n",
    "        lr = LogisticRegression()\n",
    "        lr.fit(X_train, y_train, use_tqdm=False, alpha = 0.1, epochs = 100, _lambda=lambdas[i])\n",
    "        dev_accuracy = lr.accuracy(X_dev, y_dev)\n",
    "    \n",
    "        dev_accs[i] = dev_accuracy\n",
    "\n",
    "best_lambda = lambdas[np.argmax(dev_accs)]"
   ]
  },
  {
   "cell_type": "code",
   "execution_count": 37,
   "id": "de8fb9fd",
   "metadata": {},
   "outputs": [
    {
     "name": "stdout",
     "output_type": "stream",
     "text": [
      "Best regularization term:  8.681779731627135\n"
     ]
    }
   ],
   "source": [
    "print(\"Best regularization term: \", best_lambda)"
   ]
  },
  {
   "cell_type": "code",
   "execution_count": 38,
   "id": "e576252e",
   "metadata": {},
   "outputs": [
    {
     "name": "stderr",
     "output_type": "stream",
     "text": [
      "100%|███████████████████████████████████████████████████████████████████████████████| 100/100 [00:00<00:00, 119.55it/s]\n"
     ]
    }
   ],
   "source": [
    "lr = LogisticRegression()\n",
    "lr.fit(X_train, y_train, alpha=0.1, epochs = 100, _lambda=best_lambda)"
   ]
  },
  {
   "cell_type": "code",
   "execution_count": 39,
   "id": "e5f4ba99",
   "metadata": {},
   "outputs": [
    {
     "name": "stdout",
     "output_type": "stream",
     "text": [
      "Test accuracy for selected regularization term:  0.972\n"
     ]
    }
   ],
   "source": [
    "test_accuracy = lr.accuracy(X_test, y_test)\n",
    "print(\"Test accuracy for selected regularization term: \", f'{test_accuracy:.3f}')"
   ]
  }
 ],
 "metadata": {
  "kernelspec": {
   "display_name": "Python 3 (ipykernel)",
   "language": "python",
   "name": "python3"
  },
  "language_info": {
   "codemirror_mode": {
    "name": "ipython",
    "version": 3
   },
   "file_extension": ".py",
   "mimetype": "text/x-python",
   "name": "python",
   "nbconvert_exporter": "python",
   "pygments_lexer": "ipython3",
   "version": "3.9.0"
  }
 },
 "nbformat": 4,
 "nbformat_minor": 5
}
