{
 "cells": [
  {
   "cell_type": "markdown",
   "id": "71fb940b",
   "metadata": {},
   "source": [
    "# Logistic Regression"
   ]
  },
  {
   "cell_type": "markdown",
   "id": "18f5d4fc",
   "metadata": {},
   "source": [
    "## Import needed libraries:\n",
    "* numpy\n",
    "* tqdm"
   ]
  },
  {
   "cell_type": "code",
   "execution_count": null,
   "id": "8fa281be",
   "metadata": {},
   "outputs": [],
   "source": [
    "import numpy as np\n",
    "from tqdm import tqdm"
   ]
  },
  {
   "cell_type": "markdown",
   "id": "fc264b73",
   "metadata": {},
   "source": [
    "## Logistic Regression Model\n",
    "\n",
    "## <span style=\"color:green\">class</span>  <span style=\"color:blue\">LogisticRegression</span>:\n",
    "\n",
    "### train():\n",
    "Trains the algorithm using gradient ascent on the given dataset X and its output y.\n",
    "If arguement **alpha_decreasing** is set to **True**, then the learning rate alpha will be decreasing\n",
    "by a factor of 0.01 on each epoch.\n",
    "\n",
    "### __compute_gradients():\n",
    "function that computes and returns:\n",
    "\n",
    "* **cost J**  \n",
    "* **gradients**,\n",
    "\n",
    "if argument _lambda is set to 0 then it's not using L2 regularization, otherwise\n",
    "L2 _lambda is the regularization term.\n",
    "\n",
    "### __sigmoid():\n",
    "The sigmoid function.\n",
    "\n",
    "### predict():\n",
    "Predicts the output (0 or 1) of a given dataset X.\n",
    "\n",
    "### accuracy():\n",
    "Predicts the accuracy of the model on a given dataset X and its output y"
   ]
  },
  {
   "cell_type": "code",
   "execution_count": null,
   "id": "70cd3af6",
   "metadata": {},
   "outputs": [],
   "source": [
    "class LogisticRegression():\n",
    "    \n",
    "    def fit(self, X, y, use_tqdm= True, epochs=2000, alpha=0.01, _lambda=0):\n",
    "        self.m, self.n = X.shape\n",
    "        self.b = 0\n",
    "        self.W = np.zeros(self.n).reshape((-1,1))\n",
    "        self.J = np.zeros(epochs)\n",
    "        \n",
    "        for epoch in tqdm(range(epochs)) if use_tqdm else range(epochs):\n",
    "            cost, grads = self.__computeCostGrads(X, y, _lambda)\n",
    "        \n",
    "            self.J[epoch] = cost\n",
    "        \n",
    "            self.W += alpha * grads[\"dw\"]\n",
    "            self.b += alpha * grads[\"db\"]\n",
    "        \n",
    "    def __computeCostGrads(self, X, y, _lambda):\n",
    "        y_hat = self.__sigmoid(np.dot(X, self.W) + self.b)\n",
    "        \n",
    "        cost = (np.dot(y.T, np.log(y_hat)) + np.dot((1-y).T, np.log(1 - y_hat)))\n",
    "        dw = np.dot(X.T, y - y_hat)\n",
    "        db = np.sum(y - y_hat)\n",
    "        \n",
    "        if(_lambda != 0):\n",
    "            cost -= (_lambda / 2.0) * np.sum(self.W**2)\n",
    "            regularization_term = _lambda * self.W\n",
    "            dw -= regularization_term\n",
    "            \n",
    "        dw /= self.m\n",
    "        db /= self.m\n",
    "        \n",
    "        grads = {\"dw\": dw, \"db\": db}\n",
    "        \n",
    "        return cost, grads\n",
    "    \n",
    "    def __sigmoid(self, Z):\n",
    "        Z = np.clip( Z, -600, 600 )\n",
    "        return 1.0 / (1 + np.exp(-Z))\n",
    "    \n",
    "    def predict(self, X):\n",
    "        predictions = self.__sigmoid(np.dot(X, self.W) + self.b)\n",
    "        predictions = (predictions >= (0.5 + 1e-6)).astype(int)\n",
    "    \n",
    "        return predictions.reshape(-1)\n",
    "    \n",
    "    def accuracy(self, X, y):\n",
    "        predictions = self.predict(X)\n",
    "        accuracy = sum(predictions == y.reshape(-1)) / y.reshape(-1).shape[0]\n",
    "\n",
    "        return accuracy"
   ]
  }
 ],
 "metadata": {
  "kernelspec": {
   "display_name": "Python 3 (ipykernel)",
   "language": "python",
   "name": "python3"
  },
  "language_info": {
   "codemirror_mode": {
    "name": "ipython",
    "version": 3
   },
   "file_extension": ".py",
   "mimetype": "text/x-python",
   "name": "python",
   "nbconvert_exporter": "python",
   "pygments_lexer": "ipython3",
   "version": "3.9.0"
  }
 },
 "nbformat": 4,
 "nbformat_minor": 5
}
