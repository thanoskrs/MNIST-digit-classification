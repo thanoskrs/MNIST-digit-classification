{
 "cells": [
  {
   "cell_type": "markdown",
   "id": "e9a24fdd",
   "metadata": {},
   "source": [
    "# PART A (pre-processing)"
   ]
  },
  {
   "cell_type": "markdown",
   "id": "0c80f677",
   "metadata": {},
   "source": [
    "### Load dataset and  split into train/dev/test\n",
    "* Download the dataset from tensorflow \n",
    "* select only the digits 5, 6 using the proper filter."
   ]
  },
  {
   "cell_type": "code",
   "execution_count": 1,
   "id": "a747f8c2",
   "metadata": {},
   "outputs": [],
   "source": [
    "import numpy as np\n",
    "import matplotlib.pyplot as plt\n",
    "from tqdm import tqdm\n",
    "import tensorflow as tf\n",
    "\n",
    "%matplotlib inline"
   ]
  },
  {
   "cell_type": "code",
   "execution_count": 2,
   "id": "4f6902dd",
   "metadata": {},
   "outputs": [],
   "source": [
    "(X_train, y_train), (X_test, y_test) = tf.keras.datasets.mnist.load_data()\n",
    "\n",
    "train_filter = np.isin(y_train, [5, 6])\n",
    "test_filter = np.isin(y_test, [5, 6])\n",
    "\n",
    "X_train, y_train = X_train[train_filter], y_train[train_filter]\n",
    "X_test, y_test = X_test[test_filter], y_test[test_filter]"
   ]
  },
  {
   "cell_type": "code",
   "execution_count": 3,
   "id": "071f9661",
   "metadata": {},
   "outputs": [
    {
     "name": "stdout",
     "output_type": "stream",
     "text": [
      "x_train shape = (11339, 28, 28)\n",
      "y_train shape = (11339,)\n",
      "\n",
      "x_test shape = (1850, 28, 28)\n",
      "y_test shape = (1850,)\n"
     ]
    }
   ],
   "source": [
    "print(\"x_train shape =\", X_train.shape)\n",
    "print(\"y_train shape =\", y_train.shape)\n",
    "print()\n",
    "print(\"x_test shape =\", X_test.shape)\n",
    "print(\"y_test shape =\", y_test.shape)"
   ]
  },
  {
   "cell_type": "markdown",
   "id": "23b4e64e",
   "metadata": {},
   "source": [
    "**Split the train dataset into train and dev, using 80% and 20% of initial dataset, respectively**"
   ]
  },
  {
   "cell_type": "code",
   "execution_count": 4,
   "id": "1481d275",
   "metadata": {},
   "outputs": [],
   "source": [
    "from sklearn.model_selection import train_test_split\n",
    "X_train, X_dev, y_train, y_dev = train_test_split( X_train, y_train, test_size=0.2, random_state=42)"
   ]
  },
  {
   "cell_type": "code",
   "execution_count": 5,
   "id": "9409cdca",
   "metadata": {},
   "outputs": [
    {
     "name": "stdout",
     "output_type": "stream",
     "text": [
      "X_train shape = (9071, 28, 28)\n",
      "y_train shape = (9071,)\n",
      "\n",
      "X_dev shape = (2268, 28, 28)\n",
      "y_dev shape = (2268,)\n",
      "\n",
      "X_test shape = (1850, 28, 28)\n",
      "y_test shape = (1850,)\n"
     ]
    }
   ],
   "source": [
    "print(\"X_train shape =\", X_train.shape)\n",
    "print(\"y_train shape =\", y_train.shape)\n",
    "print()\n",
    "print(\"X_dev shape =\", X_dev.shape)\n",
    "print(\"y_dev shape =\", y_dev.shape)\n",
    "print()\n",
    "print(\"X_test shape =\", X_test.shape)\n",
    "print(\"y_test shape =\", y_test.shape)"
   ]
  },
  {
   "cell_type": "markdown",
   "id": "f0d7eeee",
   "metadata": {},
   "source": [
    "### Visualize some digits"
   ]
  },
  {
   "cell_type": "code",
   "execution_count": 6,
   "id": "d52542a4",
   "metadata": {},
   "outputs": [
    {
     "data": {
      "image/png": "[encoded data removed]",
      "text/plain": [
       "<Figure size 500x200 with 5 Axes>"
      ]
     },
     "metadata": {},
     "output_type": "display_data"
    }
   ],
   "source": [
    "import random\n",
    "random.seed(1)\n",
    "\n",
    "plt.figure(figsize=(5,2))\n",
    "plt.gray()\n",
    "\n",
    "for i in range(5):\n",
    "    plt.subplot(1, 5, i+1).axis('off')\n",
    "    plt.imshow(X_train[random.randint(0, X_train.shape[0])])\n",
    "\n",
    "plt.show()"
   ]
  },
  {
   "cell_type": "markdown",
   "id": "1cda9a94",
   "metadata": {},
   "source": [
    "### Process datasets\n",
    "Reshape dimensionalities of each training/dev/test example to a vector of 784 dimensions\n",
    "\n"
   ]
  },
  {
   "cell_type": "code",
   "execution_count": 7,
   "id": "815c6091",
   "metadata": {},
   "outputs": [],
   "source": [
    "X_train = X_train.reshape(X_train.shape[0], -1)\n",
    "X_dev = X_dev.reshape(X_dev.shape[0], -1)\n",
    "X_test = X_test.reshape(X_test.shape[0], -1)"
   ]
  },
  {
   "cell_type": "code",
   "execution_count": 8,
   "id": "daba6396",
   "metadata": {},
   "outputs": [
    {
     "name": "stdout",
     "output_type": "stream",
     "text": [
      "x_train shape = (9071, 784)\n",
      "x_dev shape = (2268, 784)\n",
      "x_test shape = (1850, 784)\n"
     ]
    }
   ],
   "source": [
    "print(\"x_train shape =\", X_train.shape)\n",
    "print(\"x_dev shape =\", X_dev.shape)\n",
    "print(\"x_test shape =\", X_test.shape)"
   ]
  },
  {
   "cell_type": "markdown",
   "id": "8b54f2fd",
   "metadata": {},
   "source": [
    "**Convert each vector element into a real number between [0, 1]**"
   ]
  },
  {
   "cell_type": "code",
   "execution_count": 9,
   "id": "a3c1494c",
   "metadata": {},
   "outputs": [],
   "source": [
    "X_train = X_train / 255.0\n",
    "X_dev = X_dev / 255.0\n",
    "X_test = X_test / 255.0"
   ]
  },
  {
   "cell_type": "markdown",
   "id": "a49ac01f",
   "metadata": {},
   "source": [
    "**Convert y_train / y_dev / y_test datasets as:**\n",
    "* if class is 5 (digit 5) convert to 0\n",
    "* if class is 6 (digit 6) convert to 1\n",
    "\n",
    "This will help us at optimizer implemantation."
   ]
  },
  {
   "cell_type": "code",
   "execution_count": 10,
   "id": "ae3dee46",
   "metadata": {},
   "outputs": [],
   "source": [
    "y_train = (y_train == 6).astype(int).reshape(-1,1)\n",
    "y_dev = (y_dev == 6).astype(int).reshape(-1,1)\n",
    "y_test = (y_test == 6).astype(int).reshape(-1,1)"
   ]
  },
  {
   "cell_type": "code",
   "execution_count": 11,
   "id": "798d51e2",
   "metadata": {},
   "outputs": [
    {
     "name": "stdout",
     "output_type": "stream",
     "text": [
      "y_train shape = (9071, 1)\n",
      "y_dev shape = (2268, 1)\n",
      "y_test shape = (1850, 1)\n"
     ]
    }
   ],
   "source": [
    "print(\"y_train shape =\", y_train.shape)\n",
    "print(\"y_dev shape =\", y_dev.shape)\n",
    "print(\"y_test shape =\", y_test.shape)"
   ]
  }
 ],
 "metadata": {
  "kernelspec": {
   "display_name": "Python 3 (ipykernel)",
   "language": "python",
   "name": "python3"
  },
  "language_info": {
   "codemirror_mode": {
    "name": "ipython",
    "version": 3
   },
   "file_extension": ".py",
   "mimetype": "text/x-python",
   "name": "python",
   "nbconvert_exporter": "python",
   "pygments_lexer": "ipython3",
   "version": "3.9.0"
  }
 },
 "nbformat": 4,
 "nbformat_minor": 5
}
